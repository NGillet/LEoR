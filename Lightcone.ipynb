{
 "cells": [
  {
   "cell_type": "markdown",
   "metadata": {},
   "source": [
    "# Imports"
   ]
  },
  {
   "cell_type": "code",
   "execution_count": 1,
   "metadata": {
    "collapsed": true
   },
   "outputs": [],
   "source": [
    "%matplotlib notebook\n",
    "\n",
    "import numpy as np\n",
    "import matplotlib\n",
    "import matplotlib.pyplot as plt\n",
    "\n",
    "from time import time\n",
    "import sys\n",
    "\n",
    "%load_ext autoreload\n",
    "%autoreload 2\n",
    "\n",
    "#%load_ext line_profiler\n",
    "#%load_ext memory_profiler\n",
    "\n",
    "from lightcone_functions import read_1LCSlice, read_1_LC, read_1_param, shrink_2D, shrink_1D, shrink_3D, read_N_LC,read_1_LC_2, LOAD_DATA\n",
    "\n",
    "### 3D convolution, with variating kernel for each slice\n",
    "from scipy.ndimage.filters import gaussian_filter\n",
    "\n",
    "### LC color from Brad and Andrei\n",
    "EoR_colour = matplotlib.colors.LinearSegmentedColormap.from_list('EoR_colour', \n",
    "                                                                 [(0, 'white'),\n",
    "                                                                  (0.21, 'yellow'),\n",
    "                                                                  (0.42, 'orange'),\n",
    "                                                                  (0.63, 'red'),\n",
    "                                                                  (0.86, 'black'),\n",
    "                                                                  (0.9, 'blue'),\n",
    "                                                                  (1, 'cyan')])\n",
    "plt.register_cmap(cmap=EoR_colour)\n",
    "#plt.rcParams[\"figure.figsize\"] = (20,5)\n",
    "plt.rcParams['image.cmap'] = 'EoR_colour'"
   ]
  },
  {
   "cell_type": "code",
   "execution_count": 4,
   "metadata": {
    "collapsed": true
   },
   "outputs": [],
   "source": [
    "def loadbar( i, Ntot, tin ):\n",
    "    #titer = time() - t\n",
    "    titerAvg = (time() - tin) / (i+1)\n",
    "    sys.stdout.write('\\r')\n",
    "    sys.stdout.write( \"[%-20s] %.1f%%\"%('='*int((i+1)*100./Ntot/5),(i+1)*100./Ntot) )\n",
    "    #sys.stdout.write( \", %.1f, %.1f s/iter, remain %.1f, %.1f s\"%( titer, titerAvg, titer*(Ntot-i-1), titerAvg*(Ntot-i-1) ) )\n",
    "    sys.stdout.write( \", %.1f s/iter, remain %.1f s, exec %.1f s\"%( titerAvg, titerAvg*(Ntot-i-1), time()-tin ) )\n",
    "    sys.stdout.flush()\n",
    "    #return time()\n",
    "\n",
    "# from time import sleep\n",
    "# tin=time()\n",
    "# for i in range(3):\n",
    "#     sleep(1)\n",
    "#     loadbar( i, 3, tin )"
   ]
  },
  {
   "cell_type": "markdown",
   "metadata": {
    "heading_collapsed": true
   },
   "source": [
    "# loading test"
   ]
  },
  {
   "cell_type": "code",
   "execution_count": null,
   "metadata": {
    "collapsed": true,
    "hidden": true
   },
   "outputs": [],
   "source": [
    "### load the last database : ICs=3\n",
    "# (LC,LC_t),(P,P_t) = LOAD_DAT_old( dim=3, fullres=True, ICs=3, verbose=True, LHS=True )\n",
    "\n",
    "### a quarter stencil of LC:\n",
    "### size 150Mpc over 3300Mpc\n",
    "### resolution 25 over 550 = a quarter of the initial resolution\n",
    "DATABASE = '300Mpc_r200_2D' # '75Mpc_r50'\n",
    "Nbins_LHS = 9000\n",
    "\n",
    "(LC,LC_t),(P,P_t),(Praw,Praw_t) = LOAD_DATA( RandomSeed=2235, \n",
    "                                             trainSize=0.9, \n",
    "                                             LHS=True,\n",
    "                                             verbose=True,\n",
    "                                             Nbins_LHS=Nbins_LHS, \n",
    "                                             DATABASE=DATABASE,\n",
    "                                             justParam=False )\n",
    "\n",
    "#(LC,LC_t),(P,P_t),(Praw,Praw_t) = LOAD_DATA( verbose=True, LHS=True )"
   ]
  },
  {
   "cell_type": "code",
   "execution_count": null,
   "metadata": {
    "collapsed": true,
    "hidden": true
   },
   "outputs": [],
   "source": [
    "### detect NAN\n",
    "### few NAN can be in some LC\n",
    "### this should be clean in the next LCDB\n",
    "LC[ np.where( np.isnan(LC) ) ] = 0.\n",
    "LC_t[ np.where( np.isnan(LC_t) ) ] = 0."
   ]
  },
  {
   "cell_type": "markdown",
   "metadata": {
    "heading_collapsed": true
   },
   "source": [
    "# verif plot"
   ]
  },
  {
   "cell_type": "code",
   "execution_count": null,
   "metadata": {
    "collapsed": true,
    "hidden": true
   },
   "outputs": [],
   "source": [
    "num_LC_test = 201\n",
    "LC_test = LC[num_LC_test,:,:,:,0]"
   ]
  },
  {
   "cell_type": "code",
   "execution_count": null,
   "metadata": {
    "collapsed": true,
    "hidden": true
   },
   "outputs": [],
   "source": [
    "test[ np.in1d( test, myselect, invert=True ) ]"
   ]
  },
  {
   "cell_type": "code",
   "execution_count": null,
   "metadata": {
    "collapsed": true,
    "hidden": true
   },
   "outputs": [],
   "source": [
    "min_val = 0\n",
    "max_val = 1\n",
    "fig = plt.figure(figsize=(10,1.))\n",
    "plt.imshow( LC_test[4,:,:], cmap=EoR_colour, interpolation=None, vmin=min_val, vmax=max_val )"
   ]
  },
  {
   "cell_type": "markdown",
   "metadata": {
    "heading_collapsed": true
   },
   "source": [
    "# PSF AND THERMAL NOISE"
   ]
  },
  {
   "cell_type": "markdown",
   "metadata": {
    "hidden": true
   },
   "source": [
    "### PSF at 140MHz\n",
    "### SKA core: $ 1.045 \\times 10^{-1} $ degree \n",
    "### SKA central: $ 3.54 \\times 10^{-2} $ degree \n",
    "### SKA all: $ 1.5 \\times 10^{-2} $ degree "
   ]
  },
  {
   "cell_type": "markdown",
   "metadata": {
    "heading_collapsed": true,
    "hidden": true
   },
   "source": [
    "### frequency (and redshift) over the depth"
   ]
  },
  {
   "cell_type": "code",
   "execution_count": null,
   "metadata": {
    "collapsed": true,
    "hidden": true
   },
   "outputs": [],
   "source": [
    "BoxRes = 200 ### pixels\n",
    "BoxSize = 300 ### Mpc\n",
    "BoxDx = BoxSize / BoxRes \n",
    "\n",
    "### HARCODED REDSHIFT OF IN THE FILE NAMES OF EACH BOXES\n",
    "### adapted to the new database (ICs=3)\n",
    "Redshifts_LightCone_Begin = [ '006.00060', '006.75589', '007.63960', '008.68274', '009.92624', '011.42503',\n",
    "                                  '013.25424', '015.51874', '018.36856', '022.02434', '026.82138' ]\n",
    "Redshifts_LightCone_End = [ '006.75589', '007.63960', '008.68274', '009.92624', '011.42503',\n",
    "                                '013.25424', '015.51874', '018.36856', '022.02434', '026.82138', '033.28927' ]\n",
    "    \n",
    "\n",
    "NumBoxes = len( Redshifts_LightCone_Begin ) ### should be 11\n",
    "\n",
    "### GET THE VALUES ON THE AXES (X=freq,Y=sky)\n",
    "### in Mpc, centered on the center of the pixels\n",
    "Y_Mpc = np.linspace( BoxDx/2, BoxSize-BoxDx/2, BoxRes)\n",
    "### in Mpc, centered on the center of the pixels\n",
    "X_Mpc = np.linspace( BoxDx/2, BoxSize*NumBoxes-BoxDx/2, BoxRes*NumBoxes)\n",
    "### in redshift, centered on the center of the pixels\n",
    "redshift_begin = float( Redshifts_LightCone_Begin[0] )\n",
    "redshift_end = float( Redshifts_LightCone_End[-1] )\n",
    "Dz = (redshift_end - redshift_begin) / (BoxRes*NumBoxes)\n",
    "X_reshift = np.linspace( Dz/2+redshift_begin, redshift_end-Dz/2, BoxRes*NumBoxes)\n",
    "### in MHz, centered on the center of the pixels\n",
    "f_rest = 1420.405751 ### MHz\n",
    "X_frequency = f_rest / (X_reshift+1)"
   ]
  },
  {
   "cell_type": "code",
   "execution_count": null,
   "metadata": {
    "collapsed": true,
    "hidden": true
   },
   "outputs": [],
   "source": [
    "from astropy.cosmology import Planck15 as cosmo\n",
    "import astropy.units as u\n",
    "import astropy.constants as const\n",
    "\n",
    "### reference frequency/wavelenght\n",
    "frequency_reference = np.array( 140 ) * u.MHz ### reference frequency for the PSF\n",
    "lambda_reference    = const.c / frequency_reference.to( 1./u.second ) ### in meter\n",
    "\n",
    "redshift_reference = X_reshift[np.where( np.abs(X_frequency-140) == np.abs(X_frequency-140).min() )[0]]\n",
    "\n",
    "print( 'PSF freq of reference: ', frequency_reference )\n",
    "print( 'PSF lambda of reference: ', lambda_reference )\n",
    "print('')\n",
    "\n",
    "### PSF at 140 MHz, in rad\n",
    "res_core    = (np.array( 0.1045 ) * u.degree).to(u.rad)\n",
    "res_central = (np.array( 0.0354 ) * u.degree).to(u.rad)\n",
    "res_all     = (np.array( 0.0150 ) * u.degree).to(u.rad)\n",
    "\n",
    "### extrapolation : 1.22 lambda / D [rad]\n",
    "### Dish size, at the reference wavelenght, in meter \n",
    "# D_core    = (1.22*u.degree) * lambda_reference / res_core\n",
    "# D_central = (1.22*u.degree) * lambda_reference / res_central\n",
    "# D_all     = (1.22*u.degree) * lambda_reference / res_all\n",
    "D_core = 1000 * u.m\n",
    "D_central = 3500 * u.m\n",
    "D_all = 65000 * u.m\n",
    "\n",
    "### angle resolution, FOR ALL THE FREQUENCY\n",
    "### extrapolation : 1.22 lambda / D(140MHz) [rad]\n",
    "res_core_f = ( (1.22*u.rad) * const.c / (X_frequency*u.MHz) / D_core ).si\n",
    "res_central_f = ( (1.22*u.rad) * const.c / (X_frequency*u.MHz) / D_central ).si\n",
    "res_all_f = ( (1.22*u.rad) * const.c / (X_frequency*u.MHz) / D_all ).si\n",
    "\n",
    "### \n",
    "reshift = 6\n",
    "\n",
    "### PSF at the redshift\n",
    "size_core_f = (cosmo.kpc_comoving_per_arcmin(reshift) * res_core_f).to( u.Mpc )\n",
    "size_central_f = (cosmo.kpc_comoving_per_arcmin(reshift) * res_central_f).to( u.Mpc )\n",
    "size_all_f = (cosmo.kpc_comoving_per_arcmin( reshift) * res_all_f).to( u.Mpc )\n",
    "### in lightcone resolution (1.5Mpc)\n",
    "R_core_f    = size_core_f    / (1.5*u.Mpc)\n",
    "R_central_f = size_central_f / (1.5*u.Mpc)\n",
    "R_all_f     = size_all_f     / (1.5*u.Mpc)\n",
    "\n",
    "print( 'Core   , PSF min, max: %s'%( size_core_f[[0,-1]] ) )\n",
    "print( 'Central, PSF min, max: %s'%( size_central_f[[0,-1]] ) )\n",
    "print( 'all    , PSF min, max: %s'%( size_all_f[[0,-1]] ) )\n"
   ]
  },
  {
   "cell_type": "markdown",
   "metadata": {
    "heading_collapsed": true,
    "hidden": true
   },
   "source": [
    "### verif plot"
   ]
  },
  {
   "cell_type": "code",
   "execution_count": null,
   "metadata": {
    "collapsed": true,
    "hidden": true,
    "scrolled": false
   },
   "outputs": [],
   "source": [
    "# plt.figure()\n",
    "\n",
    "# plt.plot( X_frequency, res_core_f )\n",
    "# plt.plot( X_frequency, res_central_f )\n",
    "# plt.plot( X_frequency, res_all_f )\n",
    "\n",
    "# plt.plot( frequency_reference, res_core, 'ro' )\n",
    "# plt.plot( frequency_reference, res_central, 'ro' )\n",
    "# plt.plot( frequency_reference, res_all, 'ro' )\n",
    "\n",
    "# plt.xlabel( 'frequency [MHz]' )\n",
    "# plt.ylabel( 'PSF [rad]' )\n",
    "\n",
    "plt.figure()\n",
    "\n",
    "plt.plot( X_frequency, size_core_f )\n",
    "plt.plot( X_frequency, size_central_f )\n",
    "plt.plot( X_frequency, size_all_f )\n",
    "\n",
    "plt.plot( X_frequency[np.where( np.abs(X_frequency-140) == np.abs(X_frequency-140).min() )[0]],\n",
    "          size_core_f[np.where( np.abs(X_frequency-140) == np.abs(X_frequency-140).min() )[0]], 'ro' )\n",
    "plt.plot( X_frequency[np.where( np.abs(X_frequency-140) == np.abs(X_frequency-140).min() )[0]], \n",
    "          size_central_f[np.where( np.abs(X_frequency-140) == np.abs(X_frequency-140).min() )[0]], 'ro' )\n",
    "plt.plot( X_frequency[np.where( np.abs(X_frequency-140) == np.abs(X_frequency-140).min() )[0]], \n",
    "          size_all_f[np.where( np.abs(X_frequency-140) == np.abs(X_frequency-140).min() )[0]], 'ro' )\n",
    "\n",
    "plt.xlabel( 'frequency [MHz]' )\n",
    "plt.ylabel( 'PSF [Mpc]' )\n",
    "\n",
    "plt.figure()\n",
    "\n",
    "plt.plot( X_reshift, size_core_f )\n",
    "plt.plot( X_reshift, size_central_f )\n",
    "plt.plot( X_reshift, size_all_f )\n",
    "\n",
    "plt.plot( redshift_reference,\n",
    "          size_core_f[np.where( np.abs(X_frequency-140) == np.abs(X_frequency-140).min() )[0]], 'ro' )\n",
    "plt.plot( redshift_reference, \n",
    "          size_central_f[np.where( np.abs(X_frequency-140) == np.abs(X_frequency-140).min() )[0]], 'ro' )\n",
    "plt.plot( redshift_reference, \n",
    "          size_all_f[np.where( np.abs(X_frequency-140) == np.abs(X_frequency-140).min() )[0]], 'ro' )\n",
    "\n",
    "plt.xlabel( 'Redshift' )\n",
    "plt.ylabel( 'PSF [Mpc]' )\n",
    "\n",
    "plt.figure()\n",
    "\n",
    "plt.plot( X_frequency, R_core_f )\n",
    "plt.plot( X_frequency, R_central_f )\n",
    "plt.plot( X_frequency, R_all_f )\n",
    "\n",
    "plt.plot( X_frequency[np.where( np.abs(X_frequency-140) == np.abs(X_frequency-140).min() )[0]],\n",
    "          R_core_f[np.where( np.abs(X_frequency-140) == np.abs(X_frequency-140).min() )[0]], 'ro' )\n",
    "plt.plot( X_frequency[np.where( np.abs(X_frequency-140) == np.abs(X_frequency-140).min() )[0]],\n",
    "          R_central_f[np.where( np.abs(X_frequency-140) == np.abs(X_frequency-140).min() )[0]], 'ro' )\n",
    "plt.plot( X_frequency[np.where( np.abs(X_frequency-140) == np.abs(X_frequency-140).min() )[0]], \n",
    "          R_all_f[np.where( np.abs(X_frequency-140) == np.abs(X_frequency-140).min() )[0]], 'ro' )\n",
    "\n",
    "plt.xlabel( 'frequency [MHz]' )\n",
    "plt.ylabel( 'PSF [resolution]' )\n"
   ]
  },
  {
   "cell_type": "markdown",
   "metadata": {
    "heading_collapsed": true,
    "hidden": true
   },
   "source": [
    "### load one LC for test"
   ]
  },
  {
   "cell_type": "code",
   "execution_count": null,
   "metadata": {
    "collapsed": true,
    "hidden": true
   },
   "outputs": [],
   "source": [
    "from lightcone_functions import read_1_param\n",
    "Nsimu = 10000\n",
    "param_raw = np.array( [ read_1_param( param=None, ICs=3, delta=s, verbose=False ) for s in range( Nsimu ) ] )\n",
    "param_raw = param_raw[:,[0,2,3,4]] ### to adapt to the new database"
   ]
  },
  {
   "cell_type": "code",
   "execution_count": null,
   "metadata": {
    "collapsed": true,
    "hidden": true
   },
   "outputs": [],
   "source": [
    "### finding a good REFERENCE LIGHTCONE\n",
    "### by hand\n",
    "\n",
    "param_ref = np.array( [30, 4.69, 40, 500] )\n",
    "\n",
    "zeta_select = (param_raw[:,0]<31) * (param_raw[:,0]>29)\n",
    "Tvir_select = (param_raw[:,1]< 5) * (param_raw[:,1]> 4)\n",
    "LX_select   = (param_raw[:,2]<41) * (param_raw[:,2]>39)\n",
    "E0_select   = (param_raw[:,3]<540) * (param_raw[:,3]>470)\n",
    "\n",
    "select = zeta_select * Tvir_select * LX_select * E0_select\n",
    "\n",
    "print( select.sum() )\n",
    "ID_hand = np.where( select )[0][0]\n",
    "\n",
    "print( param_raw[ID_hand] )"
   ]
  },
  {
   "cell_type": "code",
   "execution_count": null,
   "metadata": {
    "collapsed": true,
    "hidden": true
   },
   "outputs": [],
   "source": [
    "ID_hand"
   ]
  },
  {
   "cell_type": "code",
   "execution_count": null,
   "metadata": {
    "collapsed": true,
    "hidden": true
   },
   "outputs": [],
   "source": [
    "LC_raw  = read_N_LC( np.array( [ID_hand] ), BoxSize=200, NsubBox=11, verbose=False, oldMethode=False )\n",
    "print( LC_raw.min(), LC_raw.max() )"
   ]
  },
  {
   "cell_type": "code",
   "execution_count": null,
   "metadata": {
    "collapsed": true,
    "hidden": true
   },
   "outputs": [],
   "source": [
    "val_min = -250\n",
    "val_max = 50\n",
    "#LC = np.clip( LC_raw, val_min, val_max )\n",
    "# def normalize_array_inplace( array, vmin=-250, vmax=50 ):\n",
    "#     array -= vmin\n",
    "#     array /= (vmax-vmin)\n",
    "# normalize_array_inplace( LC )\n",
    "def normalize( array, vmin=-250, vmax=50 ):\n",
    "    array_tempo = np.copy( np.clip( array, val_min, val_max ) )\n",
    "    array_tempo -= np.average( array_tempo )\n",
    "    array_tempo -= array_tempo.min()\n",
    "    array_tempo /= array_tempo.max()\n",
    "    return array_tempo\n",
    "LC = normalize( LC_raw, vmin=-250, vmax=50 )"
   ]
  },
  {
   "cell_type": "code",
   "execution_count": null,
   "metadata": {
    "collapsed": true,
    "hidden": true
   },
   "outputs": [],
   "source": [
    "LC_0mean = LC_raw - LC_raw.mean()"
   ]
  },
  {
   "cell_type": "code",
   "execution_count": null,
   "metadata": {
    "collapsed": true,
    "hidden": true
   },
   "outputs": [],
   "source": [
    "LC_raw[0,:,:,200*num_cube:200*(num_cube+1)].mean()"
   ]
  },
  {
   "cell_type": "code",
   "execution_count": null,
   "metadata": {
    "collapsed": true,
    "hidden": true
   },
   "outputs": [],
   "source": [
    "LC_raw_mean = LC_raw.mean()"
   ]
  },
  {
   "cell_type": "code",
   "execution_count": null,
   "metadata": {
    "collapsed": true,
    "hidden": true
   },
   "outputs": [],
   "source": [
    "LC_dTb = (LC_raw-LC_raw_mean) / LC_raw_mean"
   ]
  },
  {
   "cell_type": "code",
   "execution_count": null,
   "metadata": {
    "collapsed": true,
    "hidden": true
   },
   "outputs": [],
   "source": [
    "EoR_colour = matplotlib.colors.LinearSegmentedColormap.from_list('mycmap', [(0, 'white'),(0.21, 'yellow'),(0.42, 'orange'),(0.63, 'red'),(0.86, 'black'),(0.9, 'blue'),(1, 'cyan')])\n",
    "\n",
    "fig = plt.figure(figsize=(10,1.2))\n",
    "plt.imshow( LC[0, 0, :, :], cmap=EoR_colour, interpolation='nearest',\n",
    "            extent=[ X_frequency[0], X_frequency[-1], 0, 300 ], aspect=1./19 )\n",
    "plt.xlabel('frequency [MHz]')\n",
    "plt.ylabel('[Mpc]')"
   ]
  },
  {
   "cell_type": "code",
   "execution_count": null,
   "metadata": {
    "collapsed": true,
    "hidden": true
   },
   "outputs": [],
   "source": [
    "px_ind = np.indices(PS1.shape)\n",
    "center = np.array( [ (px_ind[i].max()-px_ind[i].min())/2 for i in range(3) ] )\n",
    "r = np.sqrt( (np.array( [ px_ind[i]-center[i] for i in range(3) ] )**2).sum(axis=0) )"
   ]
  },
  {
   "cell_type": "code",
   "execution_count": null,
   "metadata": {
    "collapsed": true,
    "hidden": true
   },
   "outputs": [],
   "source": [
    "np.diff( np.unique(np.log10(r)) ).max()"
   ]
  },
  {
   "cell_type": "code",
   "execution_count": null,
   "metadata": {
    "collapsed": true,
    "hidden": true
   },
   "outputs": [],
   "source": [
    "(r.max()-r.min()) / np.diff( np.unique(r) ).max()"
   ]
  },
  {
   "cell_type": "code",
   "execution_count": null,
   "metadata": {
    "collapsed": true,
    "hidden": true
   },
   "outputs": [],
   "source": [
    "(np.log10(r.max())-np.log10(r.min())) / np.diff( np.unique(np.log10(r)) ).max()"
   ]
  },
  {
   "cell_type": "code",
   "execution_count": null,
   "metadata": {
    "collapsed": true,
    "hidden": true
   },
   "outputs": [],
   "source": [
    "bins = np.logspace( np.log10(r.min()), np.log10(r.max()), 8 )\n",
    "h_r, r_bin = np.histogram( r.flat, bins=bins )\n",
    "h_ravg, r_bin = np.histogram( r.flat, bins=bins, weights=r.flat )\n",
    "\n",
    "plt.figure()\n",
    "plt.plot( (h_ravg/h_r) * dk, h_ravg/h_r.sum() )\n",
    "\n",
    "ylim = plt.ylim()\n",
    "# plt.vlines( r_bin*dk, ylim[0], ylim[1], colors='k', linestyles='--', label='klim' )\n",
    "\n",
    "plt.semilogx()\n",
    "\n",
    "\n",
    "h_r, r_bin = np.histogram( r.flat, bins=216 )\n",
    "h_ravg, r_bin = np.histogram( r.flat, bins=216, weights=r.flat )\n",
    "\n",
    "\n",
    "plt.plot( h_ravg/h_r *dk, h_ravg/h_r.sum() )\n",
    "\n",
    "ylim = plt.ylim()\n",
    "# plt.vlines( r_bin*dk, ylim[0], ylim[1], colors='k', linestyles='--', label='klim' )\n",
    "\n"
   ]
  },
  {
   "cell_type": "code",
   "execution_count": null,
   "metadata": {
    "collapsed": true,
    "hidden": true
   },
   "outputs": [],
   "source": [
    "def azimuthalAverage( image, histo=True, center=True, nBins=100, logk=False, allR=False, dx=1. ):\n",
    "    \"\"\"\n",
    "    Calculate the azimuthally averaged radial profile.\n",
    "\n",
    "    image - The 2D image\n",
    "    center - The [x,y] pixel coordinates used as the center. The default is\n",
    "             None, which then uses the center of the image (including\n",
    "             fracitonal pixels).\n",
    "\n",
    "    \"\"\"\n",
    "    ### Dimention of image\n",
    "    dim = np.array(image.shape).size        \n",
    "    \n",
    "    ### Calculate the indices from the image\n",
    "    # z, y, x = np.indices(image.shape) \n",
    "    px_ind = np.indices(image.shape)\n",
    "\n",
    "    if( center ):\n",
    "        #center = np.array([(x.max()-x.min())/2.0, (x.max()-x.min())/2.0])\n",
    "        center = np.array( [ (px_ind[i].max()-px_ind[i].min()+1)/2 for i in range(dim) ] )\n",
    "    else:\n",
    "        center = np.zeros( dim )\n",
    "        \n",
    "    print( 'Image center : ', center )\n",
    "        \n",
    "\n",
    "    ### Distances to center\n",
    "    #r = np.hypot(x - center[0], y - center[1])\n",
    "    r = np.sqrt( (np.array( [ px_ind[i]-center[i] for i in range(dim) ] )**2).sum(axis=0) ) * dx\n",
    "\n",
    "    ### a proper histogram (THIS IS LIFE)\n",
    "    if( histo ):\n",
    "        \n",
    "        if( logk ):\n",
    "            bins = np.logspace( np.log10(r.min()), np.log10(r.max()), nBins )\n",
    "        elif( allR ):\n",
    "            bins = np.unique( r )\n",
    "        else:\n",
    "            bins = nBins\n",
    "            \n",
    "        print( 'Scale min, max : ', r.min(), r.max() )\n",
    "        \n",
    "        ### number of pixel per bin\n",
    "        h_r, r_bin = np.histogram( r.flat, bins=bins )\n",
    "        ### total pixels' distance per bin\n",
    "        h_ravg, r_bin = np.histogram( r.flat, bins=bins, weights=r.flat )\n",
    "        ### total pixels' value per bin\n",
    "        h_im, r_bin = np.histogram( r.flat, bins=bins, weights=image.flat )\n",
    "        #print( h_r[:10] )\n",
    "        ### return\n",
    "        ### r_bin - the bins of distance (in pixel size unit)\n",
    "        ### h_ravg / h_r - the average pixels' distance per bin\n",
    "        ### h_im / h_r - the average pixels' value per bin\n",
    "        ### h_im / h_r / np.sqrt(h_r) - the average pixels' value error, as Poisson\n",
    "        return  r_bin, h_ravg / h_r, h_im / h_r, h_im / h_r / np.sqrt(h_r)\n",
    "    \n",
    "    else:\n",
    "        ### Get sorted radii\n",
    "        ind = np.argsort(r.flat)\n",
    "        r_sorted = r.flat[ind]     ### sorted radii\n",
    "        i_sorted = image.flat[ind] ### px of image sorted with radii\n",
    "\n",
    "        ### Get the integer part of the radii (bin size = 1)\n",
    "        r_int = r_sorted.astype(int)\n",
    "\n",
    "        ### Find all pixels that fall within each radial bin.\n",
    "        deltar = r_int[1:] - r_int[:-1]  # Assumes all radii represented\n",
    "        rind = np.where(deltar)[0]       # location of changed radius\n",
    "        nr = rind[1:] - rind[:-1]        # number of radius bin\n",
    "\n",
    "        ### Cumulative sum to figure out sums for each radius bin\n",
    "        csim = np.cumsum(i_sorted, dtype=float)\n",
    "        tbin = csim[rind[1:]] - csim[rind[:-1]]\n",
    "\n",
    "        radial_prof = tbin / nr\n",
    "\n",
    "        return radial_prof, np.arange(r_int.max()-1)"
   ]
  },
  {
   "cell_type": "code",
   "execution_count": null,
   "metadata": {
    "collapsed": true,
    "hidden": true
   },
   "outputs": [],
   "source": [
    "from scipy import fftpack\n",
    "\n",
    "#k = 2*np.pi / 300 * np.arange(0,200)\n",
    "\n",
    "BoxSize = 300 ### Mpc\n",
    "Volume = BoxSize**3 ### Mpc**3\n",
    "Nsize = 200\n",
    "dx = BoxSize/Nsize\n",
    "\n",
    "dk = 2*np.pi/BoxSize\n",
    "#klim = (Nsize/2) *dk\n",
    "k_low = dk\n",
    "k_high = 2*np.pi/dx\n",
    "\n",
    "Npx = Nsize**3 ### total number of pixels\n",
    "dV = Volume / Npx\n",
    "\n",
    "num_cube = 2 ### entre 0-10\n",
    "\n",
    "### raw LC\n",
    "# FF1 = fftpack.fftn( np.squeeze( LC_raw[0,:,:,200*num_cube:200*(num_cube+1)] * dV ) )\n",
    "# FF2 = fftpack.fftshift( FF1 )\n",
    "# PS_raw = np.abs( FF2 )**2 / (2*np.pi**2*Volume)\n",
    "\n",
    "### raw 0 mean LC\n",
    "FF1 = fftpack.fftn( np.squeeze( LC_0mean[0,:,:,200*num_cube:200*(num_cube+1)] * dV ) )\n",
    "FF2 = fftpack.fftshift( FF1 )\n",
    "PS_0mean= np.abs( FF2 )**2 / (2*np.pi**2*Volume)\n",
    "\n",
    "### dTb\n",
    "FF1 = fftpack.fftn( np.squeeze( LC_dTb[0,:,:,200*num_cube:200*(num_cube+1)] *dV ) ) ### * dv\n",
    "FF2 = fftpack.fftshift( FF1 )\n",
    "PS_dTb = np.abs( FF2 )**2 / (2*np.pi**2 *Volume)\n",
    "\n",
    "\n",
    "\n",
    "### raw 0 mean LC + Noise\n",
    "#FF1 = fftpack.fftn( np.squeeze( (LC_0mean+N*1000)[0,:,:,200*num_cube:200*(num_cube+1)] * dV  ) )\n",
    "#FF2 = fftpack.fftshift( FF1 )\n",
    "#PS_0mean_noise = np.abs( FF2 )**2 / (2*np.pi**2*Volume)\n",
    "\n",
    "# FF1 = fftpack.fftn( np.squeeze( LC[0,:,:,200*num_cube:200*(num_cube+1)] * dV ) )**2\n",
    "# FF2 = fftpack.fftshift( FF1 )\n",
    "# PS_red = np.abs( FF2 )**2\n",
    "\n",
    "# FF1 = fftpack.fftn( np.squeeze( LC_noise[0,:,:,200*num_cube:200*(num_cube+1)] * dV ) )**2\n",
    "# FF2 = fftpack.fftshift( FF1 )\n",
    "# PS_noi = np.abs( FF2 )**2\n",
    "\n",
    "# FF1 = fftpack.fftn( np.squeeze( LC_conv[:,:,200*num_cube:200*(num_cube+1)] * dV ) )**2\n",
    "# FF2 = fftpack.fftshift( FF1 )\n",
    "# PS_conv = np.abs( FF2 )**2\n",
    "\n",
    "# FF1 = fftpack.fftn( np.squeeze( LC_conv_noise[:,:,200*num_cube:200*(num_cube+1)] * dV ) )**2\n",
    "# FF2 = fftpack.fftshift( FF1 )\n",
    "# PS_conv_noi = np.abs( FF2 )**2\n",
    "\n",
    "#FF1 = fftpack.fftn( np.squeeze( (N*1000)[:,:,200*num_cube:200*(num_cube+1)] * dV ) )\n",
    "#FF2 = fftpack.fftshift( FF1 )\n",
    "#PS_N = np.abs( FF2 )**2 / (2*np.pi**2*Volume)"
   ]
  },
  {
   "cell_type": "code",
   "execution_count": null,
   "metadata": {
    "collapsed": true,
    "hidden": true
   },
   "outputs": [],
   "source": [
    "# r_raw, r_raw_avg, RP_raw, RP_raw_error = azimuthalAverage( PS_raw, histo=True , center=True, nBins=170 )\n",
    "\n",
    "_, r_0mean_allR, RP_0mean_allR,_ = azimuthalAverage( PS_0mean, histo=True , center=True, nBins=1000, allR=True, logk=False )\n",
    "#_, r_0mean_avg , RP_0mean_avg ,_ = azimuthalAverage( PS_0mean, histo=True , center=True, nBins=200, allR=False, logk=False )\n",
    "_, r_0mean_bin , RP_0mean_bin ,sig_bin = azimuthalAverage( PS_0mean, histo=True , center=True, nBins=bins, allR=False, logk=False )\n",
    "\n",
    "_, r_dTb_avg , RP_dTb_avg ,_ = azimuthalAverage( PS_dTb, histo=True , center=True, nBins=bins, allR=False, logk=False )\n",
    "\n",
    "\n",
    "\n",
    "#r_0mean, r_0mean_avg, RP_0mean, RP_0mean_error = azimuthalAverage( PS_0mean, histo=True, center=True, nBins=30, logk=True )\n",
    "\n",
    "#_, r_0mean_noise_avg, RP_0mean_noise,_ = azimuthalAverage( PS_0mean_noise, histo=True , center=True, nBins=150 )\n",
    "#r_0mean_noise, r_0mean_noise_avg, RP_0mean_noise, RP_0mean_noise_error = azimuthalAverage( PS_0mean_noise, histo=True , center=True, nBins=30, logk=True )\n",
    "\n",
    "\n",
    "# RP_red , r_red   = azimuthalAverage( PS_red, histo=True , center=True )\n",
    "# RP_noi , r_noi    = azimuthalAverage( PS_noi, histo=True , center=True )\n",
    "# RP_conv, r_conv = azimuthalAverage( PS_conv, histo=True , center=True )\n",
    "# RP_conv_noi, r_conv_noi   = azimuthalAverage( PS_conv_noi, histo=True , center=True )\n",
    "\n",
    "#_, r_N_avg, RP_N,_ = azimuthalAverage( PS_N, histo=True , center=True, nBins=150 )\n",
    "#r_N, r_N_avg, RP_N, RP_N_error = azimuthalAverage( PS_N, histo=True , center=True, nBins=30, logk=True )"
   ]
  },
  {
   "cell_type": "code",
   "execution_count": null,
   "metadata": {
    "collapsed": true,
    "hidden": true
   },
   "outputs": [],
   "source": [
    "import numpy as np"
   ]
  },
  {
   "cell_type": "code",
   "execution_count": null,
   "metadata": {
    "collapsed": true,
    "hidden": true
   },
   "outputs": [],
   "source": [
    "ref_path = '/amphora/bradley.greig/21CMMC_wTs_LC_RSDs_Nicolas/Programs/'\n",
    "\n",
    "ref_files = ['delTps_estimate_0.000000_2418.000000_zstart006.00060_zend006.75589_FLIPBOXES0_200_300Mpc_lighttravel.txt',\n",
    "             'delTps_estimate_0.000000_2418.000000_zstart006.75589_zend007.63960_FLIPBOXES0_200_300Mpc_lighttravel.txt',\n",
    "             'delTps_estimate_0.000000_2418.000000_zstart007.63960_zend008.68274_FLIPBOXES0_200_300Mpc_lighttravel.txt',\n",
    "             'delTps_estimate_0.000000_2418.000000_zstart008.68274_zend009.92624_FLIPBOXES0_200_300Mpc_lighttravel.txt',\n",
    "             'delTps_estimate_0.000000_2418.000000_zstart009.92624_zend011.42503_FLIPBOXES0_200_300Mpc_lighttravel.txt',\n",
    "             'delTps_estimate_0.000000_2418.000000_zstart011.42503_zend013.25424_FLIPBOXES0_200_300Mpc_lighttravel.txt',\n",
    "             'delTps_estimate_0.000000_2418.000000_zstart013.25424_zend015.51874_FLIPBOXES0_200_300Mpc_lighttravel.txt',\n",
    "             'delTps_estimate_0.000000_2418.000000_zstart015.51874_zend018.36856_FLIPBOXES0_200_300Mpc_lighttravel.txt',\n",
    "             'delTps_estimate_0.000000_2418.000000_zstart018.36856_zend022.02434_FLIPBOXES0_200_300Mpc_lighttravel.txt',\n",
    "             'delTps_estimate_0.000000_2418.000000_zstart022.02434_zend026.82138_FLIPBOXES0_200_300Mpc_lighttravel.txt',\n",
    "             'delTps_estimate_0.000000_2418.000000_zstart026.82138_zend033.28927_FLIPBOXES0_200_300Mpc_lighttravel.txt',\n",
    "             'delTps_estimate_0.000000_2418.000000_zstart033.28927_zend006.00060_FLIPBOXES0_200_300Mpc_lighttravel.txt']\n",
    "\n",
    "#PS_ref = np.loadtxt( '/astro/home/nicolas.gillet/21cmFAST/Programs/delTps.txt' )\n",
    "PS_ref = np.loadtxt( ref_path + ref_files[0] )"
   ]
  },
  {
   "cell_type": "code",
   "execution_count": null,
   "metadata": {
    "collapsed": true,
    "hidden": true
   },
   "outputs": [],
   "source": [
    "# R_ref = ( PS_ref[:,0]/ dk)\n",
    "# log_bins = np.concatenate( [ [np.log10(R_ref[0]) - np.diff( np.log10( R_ref ) )[0]/2],\n",
    "#              np.log10(R_ref[1:]) - np.diff( np.log10( R_ref ) )/2, \n",
    "#              [np.log10(R_ref[-1]) + np.diff( np.log10( R_ref ) )[-1]/2] ] )\n",
    "# bins = 10**( log_bins )\n",
    "\n",
    "# plt.figure()\n",
    "# plt.plot( R_ref, np.ones(17), 'ro' )\n",
    "# plt.plot( bins, np.ones(18), 'b.' )\n",
    "\n",
    "# plt.semilogx()"
   ]
  },
  {
   "cell_type": "code",
   "execution_count": null,
   "metadata": {
    "collapsed": true,
    "hidden": true
   },
   "outputs": [],
   "source": [
    "RP_dTb_avg * LC_raw_mean**2 / (RP_0mean_bin)"
   ]
  },
  {
   "cell_type": "code",
   "execution_count": null,
   "metadata": {
    "collapsed": true,
    "hidden": true
   },
   "outputs": [],
   "source": [
    "LC_raw[0,:,:,200*num_cube:200*(num_cube+1)].mean()"
   ]
  },
  {
   "cell_type": "code",
   "execution_count": null,
   "metadata": {
    "collapsed": true,
    "hidden": true
   },
   "outputs": [],
   "source": [
    "plt.figure()\n",
    "\n",
    "# plt.plot( r_raw_avg *2*np.pi/300, \n",
    "#           (r_raw_avg *2*np.pi/300)**3 / (2*np.pi**2*Volume) * RP_raw, label='raw' )\n",
    "\n",
    "plt.plot( r_0mean_allR *dk, \n",
    "          (r_0mean_allR *dk)**3 * RP_0mean_allR, label='LC : Tb-<Tb>' )\n",
    "# plt.plot( r_0mean_avg *dk, \n",
    "#           (r_0mean_avg *dk)**3 * RP_0mean_avg, label='LC 0-mean' )\n",
    "plt.plot( r_0mean_bin *dk, \n",
    "          (r_0mean_bin *dk)**3 * RP_0mean_bin, label='LC : Tb-<Tb>' )\n",
    "# plt.plot( r_0mean_bin *dk, \n",
    "#           (r_0mean_bin *dk)**3 * (RP_0mean_bin-sig_bin), 'g--' )\n",
    "# plt.plot( r_0mean_bin *dk, \n",
    "#           (r_0mean_bin *dk)**3 * (RP_0mean_bin+sig_bin), 'g--' )\n",
    "\n",
    "plt.plot( r_dTb_avg *dk, \n",
    "         (r_dTb_avg *dk)**3 * RP_dTb_avg * LC_raw_mean**2, label='LC : (Tb-<Tb>)/<Tb>' )\n",
    "\n",
    "\n",
    "\n",
    "#plt.vlines( r_0mean_avg *2*np.pi/300, ylim[0], ylim[1], colors='k', linestyles='--', label='klim' )\n",
    "\n",
    "\n",
    "#plt.plot( r_0mean_noise_avg *dk, \n",
    "#          (r_0mean_noise_avg *dk)**3 * RP_0mean_noise, label='LC 0-mean + Noise' )\n",
    "\n",
    "plt.plot( PS_ref[:,0], PS_ref[:,1], '--', label='ref' )\n",
    "# plt.plot( PS_ref[:,0], PS_ref[:,1]+PS_ref[:,2] )\n",
    "# plt.plot( PS_ref[:,0], PS_ref[:,1]-PS_ref[:,2] )\n",
    "\n",
    "# # plt.plot( r_red *2*np.pi/300 , RP_red, label='norm' )\n",
    "# # plt.plot( r_noi *2*np.pi/300 , RP_noi, label=' + noise' )\n",
    "# # plt.plot( r_conv *2*np.pi/300 , RP_conv, label='+ conv' )\n",
    "# # plt.plot( r_conv_noi *2*np.pi/300 , RP_conv_noi, label='+ cov+noise' )\n",
    "\n",
    "#plt.plot( r_N_avg *dk, \n",
    "#          (r_N_avg *dk)**3 * RP_N, label='Noise' )\n",
    "\n",
    "plt.semilogy()\n",
    "plt.semilogx()\n",
    "\n",
    "ylim = plt.ylim()\n",
    "\n",
    "plt.vlines( k_low         , ylim[0], ylim[1], colors='k', linestyles='--' )\n",
    "plt.vlines( k_high        , ylim[0], ylim[1], colors='k', linestyles='--' )\n",
    "# plt.vlines( 2*np.pi/300  , ylim[0], ylim[1], colors='k', linestyles='--', label='klim' )\n",
    "\n",
    "# plt.vlines( 0.866025403784 *2*np.pi/300, ylim[0], ylim[1], colors='k', linestyles='--', label='klim' )\n",
    "# plt.vlines( 172.339055353  *2*np.pi/300, ylim[0], ylim[1], colors='k', linestyles='--', label='klim' )\n",
    "# plt.vlines( r_0mean * 2*np.pi/300  , ylim[0], ylim[1], colors='k', linestyles='--', label='klim' )\n",
    "\n",
    "\n",
    "\n",
    "plt.xlabel( r'$\\rm{ k\\ [Mpc^{-1}] }$' )\n",
    "plt.ylabel( r'$\\rm{ \\delta T_b \\ \\Delta_{21}^2 \\ [mK^2] }$' )\n",
    "plt.title( 'Radial average' )\n",
    "\n",
    "plt.legend(loc='best')\n",
    "plt.grid()\n"
   ]
  },
  {
   "cell_type": "markdown",
   "metadata": {
    "heading_collapsed": true
   },
   "source": [
    "# CONVOLUTION"
   ]
  },
  {
   "cell_type": "markdown",
   "metadata": {
    "hidden": true
   },
   "source": [
    "## test LC_test"
   ]
  },
  {
   "cell_type": "code",
   "execution_count": null,
   "metadata": {
    "collapsed": true,
    "hidden": true
   },
   "outputs": [],
   "source": [
    "### mode : 'reflect', 'constant', 'nearest', 'mirror', 'wrap'\n",
    "LC_gauss = gaussian_filter( LC_test, 2, mode='reflect' )"
   ]
  },
  {
   "cell_type": "code",
   "execution_count": null,
   "metadata": {
    "collapsed": true,
    "hidden": true
   },
   "outputs": [],
   "source": [
    "%timeit gaussian_filter( LC[200,:,:,:,0], 2, mode='reflect', order=0, output=None, cval=0.0, truncate=4.0 )"
   ]
  },
  {
   "cell_type": "code",
   "execution_count": null,
   "metadata": {
    "collapsed": true,
    "hidden": true
   },
   "outputs": [],
   "source": [
    "min_val = 0\n",
    "max_val = 1\n",
    "fig = plt.figure(figsize=(10,1.))\n",
    "plt.imshow( LC_gauss[4,:,:], cmap=EioR_colour, interpolation=None, vmin=min_val, vmax=max_val )"
   ]
  },
  {
   "cell_type": "markdown",
   "metadata": {
    "heading_collapsed": true,
    "hidden": true
   },
   "source": [
    "## test on database"
   ]
  },
  {
   "cell_type": "code",
   "execution_count": null,
   "metadata": {
    "collapsed": true,
    "hidden": true
   },
   "outputs": [],
   "source": [
    "tin = time()\n",
    "\n",
    "LC_conv = np.zeros( LC.shape[1:] )\n",
    "kernel_size = np.array( R_central_f )\n",
    "buffer_size = 30\n",
    "\n",
    "for i in range(2200):\n",
    "    if( i<=14 ):\n",
    "        LC_conv[:,:,i] = gaussian_filter( LC[0,:,:,0:buffer_size], kernel_size[i], mode='wrap' )[:,:,buffer_size//2-1]\n",
    "    elif( i>=2186 ):\n",
    "        LC_conv[:,:,i] = gaussian_filter( LC[0,:,:,-buffer_size:], kernel_size[i], mode='wrap' )[:,:,buffer_size//2-1]\n",
    "    else:\n",
    "        LC_conv[:,:,i] = gaussian_filter( LC[0,:,:,i-15:i+15], kernel_size[i], mode='wrap' )[:,:,buffer_size//2-1]\n",
    "    loadbar( i, 2200, tin )"
   ]
  },
  {
   "cell_type": "code",
   "execution_count": null,
   "metadata": {
    "collapsed": true,
    "hidden": true,
    "scrolled": false
   },
   "outputs": [],
   "source": [
    "EoR_colour = matplotlib.colors.LinearSegmentedColormap.from_list('mycmap', [(0, 'white'),(0.21, 'yellow'),(0.42, 'orange'),(0.63, 'red'),(0.86, 'black'),(0.9, 'blue'),(1, 'cyan')])\n",
    "\n",
    "fig = plt.figure(figsize=(10,2.2))\n",
    "plt.imshow( LC[0, 100, :, :], cmap=EoR_colour, interpolation='nearest',\n",
    "            extent=[ X_frequency[0], X_frequency[-1], 0, 300 ], aspect=1./19 )\n",
    "plt.xlabel('frequency [MHz]')\n",
    "plt.ylabel('[Mpc]')\n",
    "\n",
    "fig = plt.figure(figsize=(10,2.2))\n",
    "plt.imshow( LC_conv[100, :, :], cmap=EoR_colour, interpolation='nearest',\n",
    "            extent=[ X_frequency[0], X_frequency[-1], 0, 300 ], aspect=1./19 )\n",
    "plt.xlabel('frequency [MHz]')\n",
    "plt.ylabel('[Mpc]')"
   ]
  },
  {
   "cell_type": "code",
   "execution_count": null,
   "metadata": {
    "collapsed": true,
    "hidden": true
   },
   "outputs": [],
   "source": [
    "LC_r = shrink_3D( np.squeeze(LC,axis=0), 40, 40, 440 )\n",
    "LC_conv_r = shrink_3D( LC_conv, 40, 40, 440 )"
   ]
  },
  {
   "cell_type": "code",
   "execution_count": null,
   "metadata": {
    "collapsed": true,
    "hidden": true
   },
   "outputs": [],
   "source": [
    "### 3D convolution, with variating kernel for each slice\n",
    "from scipy.ndimage.filters import gaussian_filter\n",
    "\n",
    "tin = time()\n",
    "\n",
    "LC_r_conv = np.zeros( LC_r.shape )\n",
    "kernel_size = np.array( R_central_f )\n",
    "buffer_size = 10\n",
    "\n",
    "for i in range(440):\n",
    "    if( i<=(buffer_size//2-1) ):\n",
    "        LC_r_conv[:,:,i] = gaussian_filter( LC_r[:,:,0:buffer_size], kernel_size[i*5]/5, mode='wrap' )[:,:,buffer_size//2-1]\n",
    "    elif( i>=(440-(buffer_size//2-1)) ):\n",
    "        LC_r_conv[:,:,i] = gaussian_filter( LC_r[:,:,-buffer_size:], kernel_size[i*5]/5, mode='wrap' )[:,:,buffer_size//2-1]\n",
    "    else:\n",
    "        LC_r_conv[:,:,i] = gaussian_filter( LC_r[:,:,i-(buffer_size//2):i+(buffer_size//2)], kernel_size[i*5]/5, mode='wrap' )[:,:,buffer_size//2-1]\n",
    "    loadbar( i, 440, tin )"
   ]
  },
  {
   "cell_type": "code",
   "execution_count": null,
   "metadata": {
    "collapsed": true,
    "hidden": true
   },
   "outputs": [],
   "source": [
    "np.abs(LC_r_conv - LC_conv_r).max()"
   ]
  },
  {
   "cell_type": "code",
   "execution_count": null,
   "metadata": {
    "collapsed": true,
    "hidden": true
   },
   "outputs": [],
   "source": [
    "fig = plt.figure(figsize=(10,2.2))\n",
    "plt.imshow( LC_r[10, :, :], cmap=EoR_colour, interpolation='nearest',\n",
    "            extent=[ X_frequency[0], X_frequency[-1], 0, 300 ], aspect=1./19 )\n",
    "plt.xlabel('frequency [MHz]')\n",
    "plt.ylabel('[Mpc]')\n",
    "\n",
    "fig = plt.figure(figsize=(10,2.2))\n",
    "plt.imshow( LC_r_conv[10, :, :], cmap=EoR_colour, interpolation='nearest',\n",
    "            extent=[ X_frequency[0], X_frequency[-1], 0, 300 ], aspect=1./19 )\n",
    "plt.xlabel('frequency [MHz]')\n",
    "plt.ylabel('[Mpc]')\n",
    "\n",
    "fig = plt.figure(figsize=(10,2.2))\n",
    "plt.imshow( LC_conv_r[10, :, :], cmap=EoR_colour, interpolation='nearest',\n",
    "            extent=[ X_frequency[0], X_frequency[-1], 0, 300 ], aspect=1./19 )\n",
    "plt.xlabel('frequency [MHz]')\n",
    "plt.ylabel('[Mpc]')"
   ]
  },
  {
   "cell_type": "markdown",
   "metadata": {
    "collapsed": true,
    "heading_collapsed": true
   },
   "source": [
    "# Noise"
   ]
  },
  {
   "cell_type": "code",
   "execution_count": null,
   "metadata": {
    "collapsed": true,
    "hidden": true
   },
   "outputs": [],
   "source": [
    "from astropy.cosmology import Planck15 as cosmo\n",
    "import astropy.units as u\n",
    "import astropy.constants as const\n",
    "import numpy as np\n",
    "\n",
    "def freq_to_wave( frequency ):\n",
    "     return (const.c / frequency.to(u.Hz) ).to(u.m) \n",
    "def wave_to_freq( wavelenght ):\n",
    "     return (const.c / wavelenght.to(u.m) ).to(u.Hz) \n",
    "\n",
    "def calc_Tsys( frequency ):\n",
    "    \"\"\" \n",
    "    /!\\ Can not reproduce the value on the table !\n",
    "    Table 3:\n",
    "        -  50 MHz : 5600 K\n",
    "        - 110 MHz :  830 K\n",
    "        - 160 MHz :  370 K\n",
    "        - 220 MHz :  200 K\n",
    "    \"\"\"\n",
    "    return ( 40 + 1.1 * 60 * freq_to_wave( frequency ).value**2.55 ) * u.K\n",
    "\n",
    "def calc_Aeff( frequency, Dense_limit=111*u.MHz, directivity=8, Le=np.sqrt(3.2*u.m**2), N_antenna=256 ):\n",
    "    \"\"\" \n",
    "\n",
    "    \"\"\"\n",
    "    antenna_eff = np.linspace( 0.85, 0.99, N_freq ) ### antenna efficiency\n",
    "    Aeff = freq_to_wave( frequency )**2 * directivity / (4*np.pi) / antenna_eff\n",
    "    \n",
    "    ### Dense and Sparce\n",
    "    Sparse = Aeff > Le**2\n",
    "    Aeff[Sparse] = Le**2\n",
    "    \n",
    "    return Aeff.si * N_antenna\n",
    "\n",
    "def calc_SEFD( frequency, sys_eff=0.9, N_station=296 ):\n",
    "    \"\"\"\n",
    "    \n",
    "    \"\"\"\n",
    "    #return ( 2*const.k_B * calc_Tsys( frequency ) / sys_eff / calc_Aeff( frequency )  ).to('Jy')\n",
    "    return ( 2*const.k_B * calc_Tsys( frequency ) / sys_eff / calc_Aeff( frequency ) / np.sqrt(N_station*(N_station-1)) ).to('Jy')\n",
    "    \n",
    "def calc_S( frequency,  d_mu=100*u.kHz, integration_time=1000*u.h ):\n",
    "    \"\"\"\n",
    "    \n",
    "    \"\"\"\n",
    "    return ( calc_SEFD( frequency ) / (d_mu * integration_time)**(0.5) ).to('Jy')\n",
    "\n",
    "def calc_PSF( frequency, diameter=3400*u.m):\n",
    "    return ( 1.22*u.rad * freq_to_wave( frequency ) / diameter )\n",
    "\n",
    "def calc_bearArea( frequency ):\n",
    "    return np.pi * calc_PSF( frequency )**2 / (4*np.log(2))\n",
    "    \n",
    "def calc_T( frequency ):\n",
    "    \"\"\"\n",
    "    \n",
    "    \"\"\"\n",
    "    return ( freq_to_wave( frequency )**2 * calc_S( frequency ) / (2*const.k_B) / calc_bearArea( frequency ) ).si\n"
   ]
  },
  {
   "cell_type": "code",
   "execution_count": null,
   "metadata": {
    "collapsed": true,
    "hidden": true
   },
   "outputs": [],
   "source": [
    "# freq = np.array( [ 50, 110, 160, 220 ] ) * u.MHz ### table 3 freq ref\n",
    "freq = X_frequency * u.MHz ### light-cone frequency\n",
    "wave =  freq_to_wave( freq ) # (const.c / freq.to('Hz')).to('m')         ### table 3 wave ref\n",
    "\n",
    "N_freq = freq.size\n",
    "\n",
    "Dense_limit = 111 * u.MHz \n",
    "directivity = 8 # 6-8 Dbi # 6.6 ### from Table 3 footnote\n",
    "Le = np.sqrt(3.2) * u.m ### from definition of Dense Aeff, and value in Table 3\n",
    "N_antenna_per_station = 256 ### from table 2\n",
    "N_station = 296 ### from table 2\n",
    "N_tot_antenna = 256*296 ### from text (page 29, sec 6.6)\n",
    "integration_time = 1000 * u.h\n",
    "d_mu = 100 * u.kHz\n",
    "sys_eff = 0.9\n",
    "antenna_eff = np.linspace( 0.85, 0.99, N_freq )\n",
    "\n",
    "\n",
    "\n",
    "# Tsys = np.array( [ 5600, 830, 370, 200 ] ) * u.K ### from table 3\n",
    "# A_over_T =  np.array( [144,970,1070,1060] )* u.m**2/u.K ### from table 3\n",
    "# Aeff_per_antenna = np.array( [3.2,3.2,1.6,0.85] )* u.m**2  ### from table 3\n",
    "# #antenna_eff = np.array( [0.85, 0.90, 0.95, 0.99] ) ### from table 3\n",
    "# SEFD = np.array( [19,2.9,2.6,2.6] ) * u.Jy\n",
    "# Tmin = np.array( [7.2,1.1,1.0,1.0] ) * u.K\n",
    "# beam_area = np.array( [133,27,13,6.9] ) * u.degree**2\n",
    "# Aeff_total = A_over_T * Tsys ### define in table 3"
   ]
  },
  {
   "cell_type": "code",
   "execution_count": null,
   "metadata": {
    "collapsed": true,
    "hidden": true
   },
   "outputs": [],
   "source": [
    "calc_Tsys( freq )"
   ]
  },
  {
   "cell_type": "code",
   "execution_count": null,
   "metadata": {
    "collapsed": true,
    "hidden": true
   },
   "outputs": [],
   "source": [
    "calc_Aeff( freq )"
   ]
  },
  {
   "cell_type": "code",
   "execution_count": null,
   "metadata": {
    "collapsed": true,
    "hidden": true
   },
   "outputs": [],
   "source": [
    "calc_SEFD( freq )"
   ]
  },
  {
   "cell_type": "code",
   "execution_count": null,
   "metadata": {
    "collapsed": true,
    "hidden": true
   },
   "outputs": [],
   "source": [
    "calc_PSF( freq )"
   ]
  },
  {
   "cell_type": "code",
   "execution_count": null,
   "metadata": {
    "collapsed": true,
    "hidden": true
   },
   "outputs": [],
   "source": [
    "calc_bearArea( freq )"
   ]
  },
  {
   "cell_type": "code",
   "execution_count": null,
   "metadata": {
    "collapsed": true,
    "hidden": true
   },
   "outputs": [],
   "source": [
    "calc_S( freq )"
   ]
  },
  {
   "cell_type": "code",
   "execution_count": null,
   "metadata": {
    "collapsed": true,
    "hidden": true
   },
   "outputs": [],
   "source": [
    "calc_T( freq ).si"
   ]
  },
  {
   "cell_type": "code",
   "execution_count": null,
   "metadata": {
    "collapsed": true,
    "hidden": true,
    "scrolled": false
   },
   "outputs": [],
   "source": [
    "plt.figure()\n",
    "plt.plot( freq.value, calc_T(freq).si.value )\n",
    "plt.xlabel( r'Frequency [MHz]' )\n",
    "plt.ylabel( r'RMS [K]' )"
   ]
  },
  {
   "cell_type": "code",
   "execution_count": null,
   "metadata": {
    "collapsed": true,
    "hidden": true
   },
   "outputs": [],
   "source": [
    "RMSnoise = calc_T( freq ).si.value"
   ]
  },
  {
   "cell_type": "code",
   "execution_count": null,
   "metadata": {
    "collapsed": true,
    "hidden": true
   },
   "outputs": [],
   "source": [
    "N = np.random.normal( loc=0.0, scale=1.0, size=[200,200,2200] ) * shrink_1D( RMSnoise, rows=2200 )"
   ]
  },
  {
   "cell_type": "code",
   "execution_count": null,
   "metadata": {
    "collapsed": true,
    "hidden": true
   },
   "outputs": [],
   "source": [
    "val_min = -250\n",
    "val_max = 50\n",
    "LC_noise = np.clip( LC_raw/1000+N, val_min/1000, val_max/1000 ) * 1000\n",
    "normalize_array_inplace( LC_noise )"
   ]
  },
  {
   "cell_type": "code",
   "execution_count": null,
   "metadata": {
    "collapsed": true,
    "hidden": true
   },
   "outputs": [],
   "source": [
    "LC_conv.shape"
   ]
  },
  {
   "cell_type": "code",
   "execution_count": null,
   "metadata": {
    "collapsed": true,
    "hidden": true,
    "scrolled": false
   },
   "outputs": [],
   "source": [
    "plt.figure()\n",
    "\n",
    "plt.plot( X_frequency, N.mean(axis=0).mean(axis=0), label='Noise' )\n",
    "\n",
    "plt.plot( X_frequency, LC_noise[0].mean(axis=0).mean(axis=0), label='LC + Noise' )\n",
    "\n",
    "plt.plot( X_frequency, LC[0].mean(axis=0).mean(axis=0), label='LC' )\n",
    "\n",
    "plt.plot( X_frequency, (LC_raw[0]+N*1000).mean(axis=0).mean(axis=0), label='LC' )\n",
    "plt.plot( X_frequency, LC_raw[0].mean(axis=0).mean(axis=0), label='LC' )\n",
    "\n",
    "# plt.plot( X_frequency, LC_conv.mean(axis=0).mean(axis=0), label='LC+conv' )\n",
    "# plt.plot( X_frequency, LC_conv_noise.mean(axis=0).mean(axis=0), label='LC+noise+conv' )\n",
    "# plt.plot( shrink_1D( X_frequency, rows=550 ), shrink_3D( LC_conv_noise, rows=50, cols=50, depths=550 ).mean(axis=0).mean(axis=0), label='LC+noise+conv+downsampling' )\n",
    "plt.legend(loc='best')\n"
   ]
  },
  {
   "cell_type": "code",
   "execution_count": null,
   "metadata": {
    "collapsed": true,
    "hidden": true,
    "scrolled": false
   },
   "outputs": [],
   "source": [
    "fig = plt.figure(figsize=(10,1.4 * 6 ))\n",
    "\n",
    "plt.subplot(611)\n",
    "plt.imshow( N[100,:,:], cmap = plt.get_cmap('Greys'), interpolation='nearest',\n",
    "            extent=[ X_frequency[0], X_frequency[-1], 0, 300 ], aspect=1./19 )\n",
    "#plt.xlabel('frequency [MHz]')\n",
    "plt.ylabel('[Mpc]')\n",
    "plt.title('Noise')\n",
    "plt.colorbar( label='[K]' )\n",
    "\n",
    "#fig = plt.figure(figsize=(10,1.2))\n",
    "plt.subplot(612)\n",
    "plt.imshow( LC[0, 100, :, :], cmap=EoR_colour, interpolation='nearest', vmin=0, vmax=1,\n",
    "            extent=[ X_frequency[0], X_frequency[-1], 0, 300 ], aspect=1./19 )\n",
    "#plt.xlabel('frequency [MHz]')\n",
    "plt.title('Light-cone')\n",
    "plt.ylabel('[Mpc]')\n",
    "CB = plt.colorbar( ticks=np.linspace(0,1,5), label='[mK]' )\n",
    "CB.ax.set_yticklabels( np.linspace(-250,50,5, dtype=np.int) )\n",
    "\n",
    "#fig = plt.figure(figsize=(10,1.2))\n",
    "plt.subplot(613)\n",
    "plt.imshow( LC_noise[0, 100, :, :], cmap=EoR_colour, interpolation='nearest', vmin=0, vmax=1,\n",
    "            extent=[ X_frequency[0], X_frequency[-1], 0, 300 ], aspect=1./19 )\n",
    "#plt.xlabel('frequency [MHz]')\n",
    "plt.ylabel('[Mpc]')\n",
    "plt.title('Light-cone + Noise')\n",
    "CB = plt.colorbar( ticks=np.linspace(0,1,5), label=r'[mK]' )\n",
    "CB.ax.set_yticklabels( np.linspace(-250,50,5, dtype=np.int) )\n",
    "\n",
    "plt.subplot(614)\n",
    "plt.imshow( LC_conv[100, :, :], cmap=EoR_colour, interpolation='nearest', vmin=0, vmax=1,\n",
    "            extent=[ X_frequency[0], X_frequency[-1], 0, 300 ], aspect=1./19 )\n",
    "#plt.xlabel('frequency [MHz]')\n",
    "plt.ylabel('[Mpc]')\n",
    "plt.title('Light-cone + PSF')\n",
    "CB = plt.colorbar( ticks=np.linspace(0,1,5), label=r'[mK]' )\n",
    "CB.ax.set_yticklabels( np.linspace(-250,50,5, dtype=np.int) )\n",
    "\n",
    "plt.subplot(615)\n",
    "plt.imshow( LC_conv_noise[100, :, :], cmap=EoR_colour, interpolation='nearest', vmin=0, vmax=1,\n",
    "            extent=[ X_frequency[0], X_frequency[-1], 0, 300 ], aspect=1./19 )\n",
    "#plt.xlabel('frequency [MHz]')\n",
    "plt.ylabel('[Mpc]')\n",
    "plt.title('Light-cone + Noise + PSF')\n",
    "CB = plt.colorbar( ticks=np.linspace(0,1,5), label=r'[mK]' )\n",
    "CB.ax.set_yticklabels( np.linspace(-250,50,5, dtype=np.int) )\n",
    "\n",
    "plt.subplot(616)\n",
    "plt.imshow( shrink_3D( LC_conv_noise, rows=50, cols=50, depths=550 )[25, :, :], cmap=EoR_colour, interpolation='nearest', vmin=0, vmax=1,\n",
    "            extent=[ X_frequency[0], X_frequency[-1], 0, 300 ], aspect=1./19 )\n",
    "plt.xlabel('frequency [MHz]')\n",
    "plt.ylabel('[Mpc]')\n",
    "plt.title('Light-cone + Noise + PSF + Downsamplig( 6kpc )')\n",
    "CB = plt.colorbar( ticks=np.linspace(0,1,5), label=r'[mK]' )\n",
    "CB.ax.set_yticklabels( np.linspace(-250,50,5, dtype=np.int) )\n"
   ]
  },
  {
   "cell_type": "code",
   "execution_count": null,
   "metadata": {
    "collapsed": true,
    "hidden": true
   },
   "outputs": [],
   "source": []
  },
  {
   "cell_type": "code",
   "execution_count": null,
   "metadata": {
    "collapsed": true,
    "hidden": true
   },
   "outputs": [],
   "source": []
  },
  {
   "cell_type": "code",
   "execution_count": null,
   "metadata": {
    "collapsed": true,
    "hidden": true
   },
   "outputs": [],
   "source": []
  },
  {
   "cell_type": "code",
   "execution_count": null,
   "metadata": {
    "collapsed": true,
    "hidden": true
   },
   "outputs": [],
   "source": []
  },
  {
   "cell_type": "code",
   "execution_count": null,
   "metadata": {
    "collapsed": true,
    "hidden": true,
    "scrolled": false
   },
   "outputs": [],
   "source": [
    "from astropy.convolution import Gaussian2DKernel\n",
    "\n",
    "SKA_config = np.load( '21cmSense/SKA_ECP_arrayfile.npz' )\n",
    "print( SKA_config.keys() )\n",
    "\n",
    "uv = SKA_config['uv_coverage']\n",
    "\n",
    "plt.figure()\n",
    "plt.imshow( np.log10( uv ) )\n",
    "\n",
    "N = uv.shape[0]\n",
    "\n",
    "uv = Gaussian2DKernel(7, x_size=N, y_size=N )\n",
    "\n",
    "im = np.abs( np.fft.ifft2( uv, norm =\"ortho\" ) )\n",
    "im[:N//2,:] = im[:N//2,:][::-1,:]\n",
    "im[N//2:,:] = im[N//2:,:][::-1,:]\n",
    "im[:,:N//2] = im[:,:N//2][:,::-1]\n",
    "im[:,N//2:] = im[:,N//2:][:,::-1]\n",
    "\n",
    "plt.imshow( np.log10( im ) )\n",
    "plt.colorbar()\n",
    "\n",
    "plt.figure()\n",
    "plt.plot( im.sum(axis=0) )\n",
    "plt.plot( im.sum(axis=1) )"
   ]
  },
  {
   "cell_type": "code",
   "execution_count": null,
   "metadata": {
    "collapsed": true,
    "hidden": true
   },
   "outputs": [],
   "source": []
  },
  {
   "cell_type": "code",
   "execution_count": null,
   "metadata": {
    "collapsed": true,
    "hidden": true
   },
   "outputs": [],
   "source": []
  },
  {
   "cell_type": "code",
   "execution_count": null,
   "metadata": {
    "collapsed": true,
    "hidden": true
   },
   "outputs": [],
   "source": []
  },
  {
   "cell_type": "code",
   "execution_count": null,
   "metadata": {
    "collapsed": true,
    "hidden": true
   },
   "outputs": [],
   "source": []
  },
  {
   "cell_type": "code",
   "execution_count": null,
   "metadata": {
    "collapsed": true,
    "hidden": true
   },
   "outputs": [],
   "source": [
    "import multiprocessing as mp\n",
    "import os\n",
    "\n",
    "def myParallFunc( indice ):\n",
    "    print( 'ID:', indice )\n",
    "#     if hasattr( os, 'getppid' ):\n",
    "#         print( 'parent process:',os.getppid() )\n",
    "#     print( 'process id:',os.getpid() )\n",
    "\n",
    "    ### LOAD ONE LIGHT-CONE\n",
    "    ### indice of the LC\n",
    "    LC  = np.squeeze( read_N_LC( np.array( [indice] ), BoxSize=200, NsubBox=11, verbose=False, oldMethode=False ), axis=0 )\n",
    "\n",
    "    ### ADD NOISE\n",
    "    ### TODO: all\n",
    "    \n",
    "    ### NORMALIZATION\n",
    "    ### TODO: before/after convolution ?\n",
    "    val_min = -250\n",
    "    val_max = 50\n",
    "    LC = np.clip( LC, val_min, val_max )\n",
    "    def normalize_array_inplace( array, vmin=-250, vmax=50 ):\n",
    "        array -= vmin\n",
    "        array /= (vmax-vmin)\n",
    "    normalize_array_inplace( LC )\n",
    "    \n",
    "    ### PSF CONVOLUTION\n",
    "    if( 1 ):\n",
    "        from scipy.ndimage.filters import gaussian_filter\n",
    "        tin = time()\n",
    "        LC_conv = np.zeros( LC.shape )\n",
    "        kernel_size = np.array( R_central_f )\n",
    "        buffer_size = 30\n",
    "        for i in range(2200):\n",
    "            if( i<=buffer_size//2-1 ):\n",
    "                LC_conv[:,:,i] = gaussian_filter( LC[:,:,0:buffer_size], kernel_size[i], mode='wrap' )[:,:,buffer_size//2-1]\n",
    "            elif( i>=(2200-buffer_size//2-1) ):\n",
    "                LC_conv[:,:,i] = gaussian_filter( LC[:,:,-buffer_size:], kernel_size[i], mode='wrap' )[:,:,buffer_size//2-1]\n",
    "            else:\n",
    "                LC_conv[:,:,i] = gaussian_filter( LC[:,:,i-buffer_size//2:i+buffer_size//2], kernel_size[i], mode='wrap' )[:,:,buffer_size//2-1]\n",
    "            loadbar( i, 2200, tin )\n",
    "    \n",
    "    ### REDUCE DATA\n",
    "    if( 1 ):\n",
    "        BoxL = 40 ### natural resolution, then cut in two\n",
    "        np.random.RandomState( np.random.seed(2235) ) ### random choise of the LC quarter\n",
    "        indAxe0 = np.random.randint(0, 2, Nsimu).astype('bool')\n",
    "        indAxe1 = np.random.randint(0, 2, Nsimu).astype('bool')\n",
    "        xmin=0\n",
    "        xmax=BoxL//2\n",
    "        ymin=0\n",
    "        ymax=BoxL//2\n",
    "        if indAxe0[indice]:\n",
    "            xmin=BoxL//2\n",
    "            xmax=BoxL\n",
    "        if indAxe1[indice]:\n",
    "            ymin=BoxL//2\n",
    "            ymax=BoxL\n",
    "\n",
    "        DATA = shrink_3D( LC_conv, 40, 40, 440 )[xmin:xmax,ymin:ymax,:]\n",
    "    \n",
    "    ### RETURN\n",
    "    return DATA\n",
    "\n",
    "tin = time()\n",
    "\n",
    "pool = mp.Pool( processes=10 )\n",
    "result = pool.map( myParallFunc, np.arange(10) )\n",
    "pool.close()\n",
    "pool.join()\n",
    "\n",
    "print( 'Parallel time: %.1f'%( (time()-tin)) )"
   ]
  },
  {
   "cell_type": "code",
   "execution_count": null,
   "metadata": {
    "collapsed": true,
    "hidden": true
   },
   "outputs": [],
   "source": [
    "result = np.array( result )"
   ]
  },
  {
   "cell_type": "code",
   "execution_count": null,
   "metadata": {
    "collapsed": true,
    "hidden": true
   },
   "outputs": [],
   "source": [
    "result.shape"
   ]
  },
  {
   "cell_type": "code",
   "execution_count": null,
   "metadata": {
    "collapsed": true,
    "hidden": true
   },
   "outputs": [],
   "source": [
    "EoR_colour = matplotlib.colors.LinearSegmentedColormap.from_list('mycmap', [(0, 'white'),(0.21, 'yellow'),(0.42, 'orange'),(0.63, 'red'),(0.86, 'black'),(0.9, 'blue'),(1, 'cyan')])\n",
    "\n",
    "fig = plt.figure(figsize=(10,2.2))\n",
    "plt.imshow( result[0, 10, :, :], cmap=EoR_colour, interpolation='nearest',\n",
    "            extent=[ X_frequency[0], X_frequency[-1], 0, 300 ], aspect=1./19 )\n",
    "plt.xlabel('frequency [MHz]')\n",
    "plt.ylabel('[Mpc]')\n",
    "\n",
    "fig = plt.figure(figsize=(10,2.2))\n",
    "plt.imshow( result[3, 10, :, :], cmap=EoR_colour, interpolation='nearest',\n",
    "            extent=[ X_frequency[0], X_frequency[-1], 0, 300 ], aspect=1./19 )\n",
    "plt.xlabel('frequency [MHz]')\n",
    "plt.ylabel('[Mpc]')"
   ]
  },
  {
   "cell_type": "code",
   "execution_count": null,
   "metadata": {
    "collapsed": true,
    "hidden": true
   },
   "outputs": [],
   "source": [
    "LC_noise.shape"
   ]
  },
  {
   "cell_type": "code",
   "execution_count": null,
   "metadata": {
    "collapsed": true,
    "hidden": true
   },
   "outputs": [],
   "source": [
    "LC_conv.shape"
   ]
  },
  {
   "cell_type": "code",
   "execution_count": null,
   "metadata": {
    "collapsed": true,
    "hidden": true
   },
   "outputs": [],
   "source": [
    "from scipy.ndimage.filters import gaussian_filter\n",
    "tin = time()\n",
    "LC_conv = np.zeros( np.squeeze( LC, axis=0 ).shape )\n",
    "kernel_size = R_central_f.value\n",
    "buffer_size = 30\n",
    "for i in range(2200):\n",
    "    if( i<=buffer_size//2-1 ):\n",
    "        LC_conv[:,:,i] = gaussian_filter( LC[0,:,:,0:buffer_size], kernel_size[i], mode='wrap' )[:,:,buffer_size//2-1]\n",
    "    elif( i>=(2200-buffer_size//2-1) ):\n",
    "        LC_conv[:,:,i] = gaussian_filter( LC[0,:,:,-buffer_size:], kernel_size[i], mode='wrap' )[:,:,buffer_size//2-1]\n",
    "    else:\n",
    "        LC_conv[:,:,i] = gaussian_filter( LC[0,:,:,i-buffer_size//2:i+buffer_size//2], kernel_size[i], mode='wrap' )[:,:,buffer_size//2-1]\n",
    "    loadbar( i, 2200, tin )"
   ]
  },
  {
   "cell_type": "code",
   "execution_count": null,
   "metadata": {
    "collapsed": true,
    "hidden": true
   },
   "outputs": [],
   "source": [
    "LC_conv_noise = np.zeros( np.squeeze( LC_noise, axis=0 ).shape )\n",
    "kernel_size = R_central_f.value\n",
    "buffer_size = 30\n",
    "tin = time()\n",
    "for i in range(2200):\n",
    "    if( i<=buffer_size//2-1 ):\n",
    "        LC_conv_noise[:,:,i] = gaussian_filter( LC_noise[0,:,:,0:buffer_size], kernel_size[i], mode='wrap' )[:,:,buffer_size//2-1]\n",
    "    elif( i>=(2200-buffer_size//2-1) ):\n",
    "        LC_conv_noise[:,:,i] = gaussian_filter( LC_noise[0,:,:,-buffer_size:], kernel_size[i], mode='wrap' )[:,:,buffer_size//2-1]\n",
    "    else:\n",
    "        LC_conv_noise[:,:,i] = gaussian_filter( LC_noise[0,:,:,i-buffer_size//2:i+buffer_size//2], kernel_size[i], mode='wrap' )[:,:,buffer_size//2-1]\n",
    "    loadbar( i, 2200, tin )"
   ]
  },
  {
   "cell_type": "code",
   "execution_count": null,
   "metadata": {
    "collapsed": true,
    "hidden": true
   },
   "outputs": [],
   "source": []
  },
  {
   "cell_type": "code",
   "execution_count": null,
   "metadata": {
    "collapsed": true,
    "hidden": true
   },
   "outputs": [],
   "source": [
    "T = np.fft.fftn( np.squeeze( LC )[:,:,:200] )"
   ]
  },
  {
   "cell_type": "code",
   "execution_count": null,
   "metadata": {
    "collapsed": true,
    "hidden": true
   },
   "outputs": [],
   "source": [
    "plt.figure()\n",
    "plt.imshow( np.abs(T[100,:,:]) )"
   ]
  },
  {
   "cell_type": "code",
   "execution_count": null,
   "metadata": {
    "collapsed": true,
    "hidden": true
   },
   "outputs": [],
   "source": []
  },
  {
   "cell_type": "code",
   "execution_count": null,
   "metadata": {
    "collapsed": true,
    "hidden": true
   },
   "outputs": [],
   "source": []
  },
  {
   "cell_type": "code",
   "execution_count": null,
   "metadata": {
    "collapsed": true,
    "hidden": true
   },
   "outputs": [],
   "source": []
  },
  {
   "cell_type": "code",
   "execution_count": null,
   "metadata": {
    "collapsed": true,
    "hidden": true
   },
   "outputs": [],
   "source": [
    "print( R_central_f.min() )\n",
    "print( R_central_f )"
   ]
  },
  {
   "cell_type": "code",
   "execution_count": null,
   "metadata": {
    "collapsed": true,
    "hidden": true
   },
   "outputs": [],
   "source": [
    "f_select = 200\n",
    "\n",
    "tin = time()\n",
    "z2 = gausConv( T, 13.1, mode='wrap' ) \n",
    "z3 = gausConv( T[:,:,(f_select-30):(f_select+30)], 13.1, mode='wrap' ) \n",
    "print( time()-tin )"
   ]
  },
  {
   "cell_type": "code",
   "execution_count": null,
   "metadata": {
    "collapsed": true,
    "hidden": true
   },
   "outputs": [],
   "source": [
    "f_select = 200\n",
    "T[:,:,(f_select-30):(f_select+30)].shape"
   ]
  },
  {
   "cell_type": "code",
   "execution_count": null,
   "metadata": {
    "collapsed": true,
    "hidden": true
   },
   "outputs": [],
   "source": [
    "a = z2[:,:,200]\n",
    "b = z3[:,:,30]\n",
    "print( (a-b).max() )\n",
    "print( (a-b).max() * 100 / a.min() )"
   ]
  },
  {
   "cell_type": "code",
   "execution_count": null,
   "metadata": {
    "collapsed": true,
    "hidden": true
   },
   "outputs": [],
   "source": [
    "\n",
    "\n",
    "PSF_gauss =  Gaussian2DKernel( stddev=10 )\n",
    "\n",
    "# z = convolve_fft( LC[3251,:,:,0], PSF_gauss, boundary='wrap' ) ### periodic boundaries\n",
    "# z2 = gausConv( LC[3251,:,:,0], 10, mode='wrap' ) \n",
    "\n",
    "z = convolve_fft( T[100,:,:], PSF_gauss, boundary='wrap' ) ### periodic boundaries\n",
    "z2 = gausConv( T, 10, mode='wrap' ) "
   ]
  },
  {
   "cell_type": "code",
   "execution_count": null,
   "metadata": {
    "collapsed": true,
    "hidden": true
   },
   "outputs": [],
   "source": [
    "z2.shape"
   ]
  },
  {
   "cell_type": "code",
   "execution_count": null,
   "metadata": {
    "collapsed": true,
    "hidden": true
   },
   "outputs": [],
   "source": [
    "fig = plt.figure(figsize=(10,2.2))\n",
    "plt.imshow( z, cmap=EoR_colour, interpolation='nearest', vmin=min_val, vmax=max_val,\n",
    "            extent=[ X_frequency[0], X_frequency[-1], 0, 300 ], aspect=1/11 )\n",
    "plt.xlabel('frequency [MHz]')\n",
    "plt.ylabel('[Mpc]')\n",
    "plt.title('')\n",
    "plt.show()\n",
    "\n",
    "fig = plt.figure(figsize=(10,2.2))\n",
    "plt.imshow( z2[100,:,:], cmap=EoR_colour, interpolation='nearest', vmin=min_val, vmax=max_val,\n",
    "            extent=[ X_frequency[0], X_frequency[-1], 0, 300 ], aspect=1/11 )\n",
    "plt.xlabel('frequency [MHz]')\n",
    "plt.ylabel('[Mpc]')\n",
    "plt.title('')\n",
    "plt.show()"
   ]
  },
  {
   "cell_type": "code",
   "execution_count": null,
   "metadata": {
    "collapsed": true,
    "hidden": true,
    "scrolled": false
   },
   "outputs": [],
   "source": [
    "import matplotlib\n",
    "EoR_colour = matplotlib.colors.LinearSegmentedColormap.from_list('mycmap', [(0, 'white'),(0.21, 'yellow'),(0.42, 'orange'),(0.63, 'red'),(0.86, 'black'),(0.9, 'blue'),(1, 'cyan')])\n",
    "\n",
    "min_val = 0\n",
    "max_val = 1\n",
    "\n",
    "fig = plt.figure(figsize=(10,2.2))\n",
    "#fig = plt.figure()\n",
    "plt.imshow( LC[3251,:,:,0], cmap=EoR_colour, interpolation=None, vmin=min_val, vmax=max_val,\n",
    "            extent=[ X_frequency[0], X_frequency[-1], 0, 300 ], aspect=1/11 )\n",
    "#plt.axis('off')\n",
    "# plt.tick_params(axis='both', left='off',top='off',right='off',bottom='off',\n",
    "#                 labelleft='off',labeltop='off',labelright='off',labelbottom='off')\n",
    "#fig.tight_layout()\n",
    "#plt.savefig( 'LC.png', bbox_inches='tight', pad_inches=0.0 )\n",
    "plt.xlabel('frequency [MHz]')\n",
    "plt.ylabel('[Mpc]')\n",
    "plt.title('FULL RESOLUTION')\n",
    "plt.show()\n",
    "\n",
    "fig = plt.figure(figsize=(10,2.2))\n",
    "plt.imshow( z, cmap=EoR_colour, interpolation=None, vmin=min_val, vmax=max_val,\n",
    "            extent=[ X_frequency[0], X_frequency[-1], 0, 300 ], aspect=1/11 )\n",
    "plt.xlabel('frequency [MHz]')\n",
    "plt.ylabel('[Mpc]')\n",
    "plt.title('FULL RESOLUTION + convol gauss(std=10)')\n",
    "plt.show()\n",
    "\n",
    "fig = plt.figure(figsize=(10,2.2))\n",
    "plt.imshow( shrink_2D( z, 20, 220 ), cmap=EoR_colour, interpolation=None, vmin=min_val, vmax=max_val,\n",
    "            extent=[ X_frequency[0], X_frequency[-1], 0, 300 ], aspect=1/11 )\n",
    "plt.xlabel('frequency [MHz]')\n",
    "plt.ylabel('[Mpc]')\n",
    "plt.title('convol gauss(std=10) + AVERAGE(10px)')\n",
    "plt.show()\n",
    "\n",
    "fig = plt.figure(figsize=(10,2.2))\n",
    "plt.imshow( shrink_2D( LC[3251,:,:,0], 20, 220 ), cmap=EoR_colour, interpolation=None, vmin=min_val, vmax=max_val,\n",
    "            extent=[ X_frequency[0], X_frequency[-1], 0, 300 ], aspect=1/11 )\n",
    "plt.xlabel('frequency [MHz]')\n",
    "plt.ylabel('[Mpc]')\n",
    "plt.title('DIRECT AVERAGE(10px)')\n",
    "plt.show()\n",
    "\n",
    "fig = plt.figure(figsize=(10,2.2))\n",
    "plt.imshow( T[150,:,:], cmap=EoR_colour, interpolation='nearest', vmin=min_val, vmax=max_val,\n",
    "            extent=[ X_frequency[0], X_frequency[-1], 0, 300 ], aspect=1/11 )\n",
    "plt.xlabel('frequency [MHz]')\n",
    "plt.ylabel('[Mpc]')\n",
    "plt.title('FULL RESOLUTION')\n",
    "plt.show()\n",
    "\n",
    "fig = plt.figure(figsize=(10,2.2))\n",
    "plt.imshow( T2[150,:,:], cmap=EoR_colour, interpolation='nearest', vmin=min_val, vmax=max_val,\n",
    "            extent=[ X_frequency[0], X_frequency[-1], 0, 300 ], aspect=1/11 )\n",
    "plt.xlabel('frequency [MHz]')\n",
    "plt.ylabel('[Mpc]')\n",
    "plt.title('FULL RESOLUTION + convol gauss(std= f(frequency) ) on frequency slice')\n",
    "plt.show()\n",
    "\n",
    "fig = plt.figure(figsize=(10,2.2))\n",
    "plt.imshow( shrink_2D( T2[150,:,:], 25, 25*11), cmap=EoR_colour, interpolation='nearest', vmin=min_val, vmax=max_val,\n",
    "            extent=[ X_frequency[0], X_frequency[-1], 0, 300 ], aspect=1/11 )\n",
    "plt.xlabel('frequency [MHz]')\n",
    "plt.ylabel('[Mpc]')\n",
    "plt.title('FULL RESOLUTION + convol gauss(std= f(frequency) ) on frequency slice + AVERAGE(8px)')\n",
    "plt.show()\n"
   ]
  },
  {
   "cell_type": "code",
   "execution_count": null,
   "metadata": {
    "collapsed": true,
    "hidden": true
   },
   "outputs": [],
   "source": []
  },
  {
   "cell_type": "code",
   "execution_count": null,
   "metadata": {
    "collapsed": true,
    "hidden": true
   },
   "outputs": [],
   "source": []
  },
  {
   "cell_type": "code",
   "execution_count": null,
   "metadata": {
    "collapsed": true,
    "hidden": true
   },
   "outputs": [],
   "source": []
  },
  {
   "cell_type": "code",
   "execution_count": null,
   "metadata": {
    "collapsed": true,
    "hidden": true
   },
   "outputs": [],
   "source": []
  },
  {
   "cell_type": "code",
   "execution_count": null,
   "metadata": {
    "collapsed": true,
    "hidden": true
   },
   "outputs": [],
   "source": []
  },
  {
   "cell_type": "markdown",
   "metadata": {
    "heading_collapsed": true
   },
   "source": [
    "# MAKE REDUCE DATABASE"
   ]
  },
  {
   "cell_type": "code",
   "execution_count": null,
   "metadata": {
    "collapsed": true,
    "hidden": true,
    "scrolled": true
   },
   "outputs": [],
   "source": [
    "if 0:\n",
    "    from time import time\n",
    "    from lightcone_functions import read_1_LC_2\n",
    "    #read_1_LC_2( 0, param=None, delta=10, verbose=True )\n",
    "\n",
    "\n",
    "    ### 3D LC, reduce \n",
    "    Nsimu = 10000 # 12959\n",
    "    BoxL = 200 #40 ### natural resolution, then cut in two\n",
    "    Nbox = 11\n",
    "    #DATA = np.zeros( (Nsimu, BoxL//2, BoxL//2, BoxL*Nbox), dtype=np.float32 )\n",
    "    DATA = np.zeros( (Nsimu, BoxL, BoxL*Nbox), dtype=np.float32 ) ### 2D\n",
    "    np.random.RandomState( np.random.seed(2235) )\n",
    "    #indAxe0 = np.random.randint(0, 2, Nsimu).astype('bool')\n",
    "    #indAxe1 = np.random.randint(0, 2, Nsimu).astype('bool')\n",
    "    #numSlice = np.random.np.random.randint(0, BoxSize, Nsimu)\n",
    "    tin = time()\n",
    "    NLC = Nsimu ### Nsimu\n",
    "    for d in range(NLC):\n",
    "        ax0 = np.copy(d)\n",
    "        #xmin=0\n",
    "        #xmax=BoxL//2\n",
    "        #ymin=0\n",
    "        #ymax=BoxL//2\n",
    "        #if indAxe0[d]:\n",
    "        #    xmin=BoxL//2\n",
    "        #    xmax=BoxL\n",
    "        #if indAxe1[d]:\n",
    "        #    ymin=BoxL//2\n",
    "        #    ymax=BoxL\n",
    "        for i in range(Nbox):\n",
    "            ax3 = i * BoxL\n",
    "\n",
    "            #DATA[ ax0, :, :, ax3:ax3+BoxL ] = shrink_3D( read_1_LC_2( i, ICs=3, param=None, delta=d, verbose=False ),40, 40, 40 )[xmin:xmax,ymin:ymax,:]\n",
    "            ### for 2D\n",
    "            DATA[ ax0, :, ax3:ax3+BoxL ] = read_1_LC_2( i, ICs=3, param=None, delta=d, verbose=False )[0,:,:] ### 2D slice z=0\n",
    "            #if( np.isnan(DATA).sum() ):\n",
    "            #    print('NAN IN RAW DATA')\n",
    "        loadbar( d, NLC, tin )"
   ]
  },
  {
   "cell_type": "code",
   "execution_count": null,
   "metadata": {
    "collapsed": true,
    "hidden": true
   },
   "outputs": [],
   "source": [
    "if 0:    \n",
    "    ### MAKE DATABASE 75Mpc - 50px (Fullres)\n",
    "    from lightcone_functions import read_1_LC_2\n",
    "    #read_1_LC_2( 0, param=None, delta=10, verbose=True )\n",
    "\n",
    "    ### 3D LC, reduce \n",
    "    Nsimu = 10000 # 12959\n",
    "    BoxL = 200 ### natural resolution, then cut in two\n",
    "    Nbox = 11\n",
    "    DATA = np.zeros( (Nsimu, BoxL//4, BoxL//4, BoxL*Nbox), dtype=np.float32 )\n",
    "    np.random.RandomState( np.random.seed(2235) )\n",
    "    #indAxe0 = np.random.randint(0, 2, Nsimu).astype('bool')\n",
    "    #indAxe1 = np.random.randint(0, 2, Nsimu).astype('bool')\n",
    "    #numSlice = np.random.np.random.randint(0, BoxSize, Nsimu)\n",
    "    tin = time()\n",
    "    for d in range(Nsimu):# range(Nsimu):\n",
    "        ax0 = np.copy(d)\n",
    "        for i in range(Nbox):\n",
    "            ax3 = i * BoxL\n",
    "            DATA[ ax0, :, :, ax3:ax3+BoxL ] = read_1_LC_2( i, ICs=3, param=None, delta=d, verbose=False )[0:50,0:50,:]\n",
    "        loadbar( d, Nsimu, tin )"
   ]
  },
  {
   "cell_type": "code",
   "execution_count": null,
   "metadata": {
    "collapsed": true,
    "hidden": true
   },
   "outputs": [],
   "source": [
    "if 1:\n",
    "    ### MAKE DATABASE 1D average\n",
    "    from lightcone_functions import read_1_LC_2\n",
    "    #read_1_LC_2( 0, param=None, delta=10, verbose=True )\n",
    "\n",
    "    ### 3D LC, reduce \n",
    "    Nsimu = 10000 # 12959\n",
    "    BoxL = 200 ### natural resolution, then cut in two\n",
    "    Nbox = 11\n",
    "    DATA = np.zeros( (Nsimu, BoxL*Nbox), dtype=np.float32 )\n",
    "    np.random.RandomState( np.random.seed(2235) )\n",
    "    tin = time()\n",
    "    for d in range(Nsimu):# range(Nsimu):\n",
    "        ax0 = np.copy(d)\n",
    "        for i in range(Nbox):\n",
    "            ax3 = i * BoxL\n",
    "            DATA[ ax0, ax3:ax3+BoxL ] = np.average( read_1_LC_2( i, ICs=3, param=None, delta=d, verbose=False ),axis=(0,1) )\n",
    "        loadbar( d, Nsimu, tin )"
   ]
  },
  {
   "cell_type": "code",
   "execution_count": null,
   "metadata": {
    "collapsed": true,
    "hidden": true
   },
   "outputs": [],
   "source": [
    "if 0:\n",
    "    ### find nan and put -250 (minimum, see Brad)\n",
    "    #DATA.flatten()[ np.where( np.isnan( DATA.flatten() ) )[0] ] = -250\n",
    "\n",
    "    ### Lets put 0 instead of NAN\n",
    "    Nnan = np.isnan(DATA).sum()\n",
    "    if( Nnan ):\n",
    "        print( '/!\\ NAN IN LIGHTCONES: %d'%(Nnan) )\n",
    "        DATA[ np.where( np.isnan(DATA) ) ] = np.zeros( Nnan, dtype=np.float32 )"
   ]
  },
  {
   "cell_type": "code",
   "execution_count": null,
   "metadata": {
    "collapsed": true,
    "hidden": true
   },
   "outputs": [],
   "source": [
    "if 0:\n",
    "    ### SAVE THE REDUCE DATABASE\n",
    "    #file_name = '/amphora/nicolas.gillet/LC_data/LC_3D_40_halfsize_10000_rand_ICs_3.npy'\n",
    "    #file_name = '/amphora/nicolas.gillet/LC_data/LC_3D_px50-2200_N10000_randICs.npy'\n",
    "    #file_name = '/amphora/nicolas.gillet/LC_data/LC_2Dz0_px200-2200_N10000_randICs.npy'\n",
    "    file_name = '/amphora/nicolas.gillet/LC_data/LC_1Davg_px2200_N10000_randICs.npy'\n",
    "    np.save( file_name, DATA )"
   ]
  },
  {
   "cell_type": "code",
   "execution_count": null,
   "metadata": {
    "collapsed": true,
    "hidden": true
   },
   "outputs": [],
   "source": [
    "### loading test\n",
    "file_name = '/amphora/nicolas.gillet/LC_data/LC_3D_40_halfsize_10000_rand_ICs_3.npy'\n",
    "LC2 = np.load( file_name )\n",
    "# np.isnan(LC2).sum()\n",
    "# LC2[ np.where( np.isnan(LC2) ) ]\n",
    "# np.where( np.isnan(LC2) )"
   ]
  },
  {
   "cell_type": "code",
   "execution_count": null,
   "metadata": {
    "collapsed": true,
    "hidden": true
   },
   "outputs": [],
   "source": [
    "EoR_colour = matplotlib.colors.LinearSegmentedColormap.from_list('mycmap', [(0, 'white'),(0.21, 'yellow'),(0.42, 'orange'),(0.63, 'red'),(0.86, 'black'),(0.9, 'blue'),(1, 'cyan')])\n",
    "\n",
    "fig = plt.figure(figsize=(10,2.2))\n",
    "plt.imshow( DATA[-2, :, :], cmap=EoR_colour, interpolation='nearest' )#, aspect=1./19 )"
   ]
  },
  {
   "cell_type": "markdown",
   "metadata": {
    "heading_collapsed": true
   },
   "source": [
    "# MAKE POWER SPECTRUM DATA BASE HERE"
   ]
  },
  {
   "cell_type": "code",
   "execution_count": null,
   "metadata": {
    "collapsed": true,
    "hidden": true
   },
   "outputs": [],
   "source": [
    "def azimuthalAverage( image, histo=True, center=True, nBins=100, logk=False, allR=False ):\n",
    "    \"\"\"\n",
    "    Calculate the averaged radial profile.\n",
    "    \n",
    "    outputs:\n",
    "        r_bin        - the bins of distance (in pixel size unit)\n",
    "        h_ravg / h_r - the average pixels' distance per bin\n",
    "        h_im / h_r   - the average pixels' value per bin\n",
    "        h_im / h_r / np.sqrt(h_r) - the average pixels' value error, as Poisson\n",
    "    \n",
    "    inputs:\n",
    "        image  - The 2D image\n",
    "        histo  - Computed with np.histogram. (Default=True)\n",
    "        center - The [x,y] pixel coordinates used as the center. \n",
    "                 The default is True, which then uses the center \n",
    "                 of the image (including fracitonal pixels).\n",
    "                 (Default=True)\n",
    "        nBins  - If histo=True, give the number of bins in the \n",
    "                 profile. (Default=100)\n",
    "        logk   - Take a log repartition of the profile's bins.\n",
    "                 (Default=False)\n",
    "        allR   - Bins of the profile are all the possible \n",
    "                 of pixels' distaces to the center. \n",
    "                 (Default=False)\n",
    "\n",
    "    \"\"\"\n",
    "    ### Dimention of image\n",
    "    dim = np.array(image.shape).size        \n",
    "    \n",
    "    ### Calculate the indices from the image\n",
    "    # z, y, x = np.indices(image.shape) \n",
    "    px_ind = np.indices(image.shape)\n",
    "\n",
    "    if( center ):\n",
    "        #center = np.array([(x.max()-x.min())/2.0, (x.max()-x.min())/2.0])\n",
    "        center = np.array( [ (px_ind[i].max()-px_ind[i].min()+1)/2 for i in range(dim) ] )\n",
    "    else:\n",
    "        center = np.zeros( dim )\n",
    "        \n",
    "    #print( 'Image center : ', center )\n",
    "        \n",
    "\n",
    "    ### Distances to center\n",
    "    #r = np.hypot(x - center[0], y - center[1])\n",
    "    r = np.sqrt( (np.array( [ px_ind[i]-center[i] for i in range(dim) ] )**2).sum(axis=0) )\n",
    "\n",
    "    ### TODO: a proper histogram (THIS IS LIFE)\n",
    "    if( histo ):\n",
    "        \n",
    "        if( logk ):\n",
    "            bins = np.logspace( np.log10(r.min()), np.log10(r.max()), nBins )\n",
    "        elif( allR ):\n",
    "            bins = np.unique( r )\n",
    "        else:\n",
    "            bins = nBins\n",
    "            \n",
    "        #print( 'Scale min, max : ', r.min(), r.max() )\n",
    "        \n",
    "        h_r, r_bin = np.histogram( r.flat, bins=bins )\n",
    "        h_ravg, r_bin = np.histogram( r.flat, bins=bins, weights=r.flat )\n",
    "        h_im, r_bin = np.histogram( r.flat, bins=bins, weights=image.flat )\n",
    "        #print( h_r[:10] )\n",
    "        \n",
    "        ### return\n",
    "        ### r_bin - the bins of distance (in pixel size unit)\n",
    "        ### h_ravg / h_r - the average pixels' distance per bin\n",
    "        ### h_im / h_r - the average pixels' value per bin\n",
    "        ### h_im / h_r / np.sqrt(h_r) - the average pixels' value error, as Poisson\n",
    "        return  r_bin, h_ravg / h_r, h_im / h_r, h_im / h_r / np.sqrt(h_r)\n",
    "    \n",
    "    else:\n",
    "        ### Get sorted radii\n",
    "        ind = np.argsort(r.flat)\n",
    "        r_sorted = r.flat[ind]     ### sorted radii\n",
    "        i_sorted = image.flat[ind] ### px of image sorted with radii\n",
    "\n",
    "        ### Get the integer part of the radii (bin size = 1)\n",
    "        r_int = r_sorted.astype(int)\n",
    "\n",
    "        ### Find all pixels that fall within each radial bin.\n",
    "        deltar = r_int[1:] - r_int[:-1]  # Assumes all radii represented\n",
    "        rind = np.where(deltar)[0]       # location of changed radius\n",
    "        nr = rind[1:] - rind[:-1]        # number of radius bin\n",
    "\n",
    "        ### Cumulative sum to figure out sums for each radius bin\n",
    "        csim = np.cumsum(i_sorted, dtype=float)\n",
    "        tbin = csim[rind[1:]] - csim[rind[:-1]]\n",
    "\n",
    "        radial_prof = tbin / nr\n",
    "\n",
    "        return radial_prof, np.arange(r_int.max()-1)"
   ]
  },
  {
   "cell_type": "code",
   "execution_count": null,
   "metadata": {
    "collapsed": true,
    "hidden": true
   },
   "outputs": [],
   "source": [
    "Nsimu = 10000 # 12959\n",
    "\n",
    "BoxSize = 300 ### Mpc\n",
    "NBox = 11 ### number of concatened boxes\n",
    "Volume = BoxSize**3 ### Mpc**3\n",
    "Nsize = 200\n",
    "\n",
    "dk = 2*np.pi/BoxSize\n",
    "klim = (Nsize/2) *dk\n",
    "\n",
    "Npx = Nsize**3 ### total number of pixels\n",
    "dV = Volume / Npx\n",
    "\n",
    "### number of bins in the PS\n",
    "#nBins = 300\n",
    "### extract from Bradley Greig data\n",
    "bins = np.array([   0.81106457,    1.23294734,    1.86085553,    2.65511319,\n",
    "          3.53771597,    4.65574434,    6.2218813 ,    8.38155591,\n",
    "         11.30065247,   15.26562472,   20.62267641,   27.84350566,\n",
    "         37.59574791,   50.75935073,   68.52797918,   91.60471217,\n",
    "        118.65416795,  150.39876929])\n",
    "nBins = bins.shape[0]-1"
   ]
  },
  {
   "cell_type": "code",
   "execution_count": null,
   "metadata": {
    "collapsed": true,
    "hidden": true
   },
   "outputs": [],
   "source": [
    "from scipy import fftpack\n",
    "from lightcone_functions import read_1_LC_2\n",
    "#read_1_LC_2( 0, param=None, delta=10, verbose=True )\n",
    "\n",
    "### 3 = k array, PS array, poisson error array\n",
    "DATA_PS = np.zeros( (3, Nsimu, NBox, nBins), dtype=np.float32 )\n",
    "DATA_PS_mean = np.zeros( Nsimu, dtype=np.float32 )\n",
    "tin = time()\n",
    "### for all lightcones\n",
    "Ntest = 5000\n",
    "Nbatch = 2\n",
    "for batch in range(Ntest):\n",
    "    \n",
    "    lc_batch_list = np.arange( Nbatch*batch, Nbatch*(batch+1) )\n",
    "    LC_raw_batch = read_N_LC( lc_batch_list, BoxSize=200, NsubBox=11, verbose=False, oldMethode=False )\n",
    "    \n",
    "    for lc_inbatch in range(Nbatch):# range(Nsimu):\n",
    "        ### LC ID\n",
    "        lc = lc_inbatch + Nbatch*batch\n",
    "\n",
    "        #LC_raw = read_N_LC( np.array( [lc] ), BoxSize=200, NsubBox=11, verbose=False, oldMethode=False )\n",
    "        LC_raw = LC_raw_batch[lc_inbatch]\n",
    "        ### NAN filtering\n",
    "        Wherenan = np.isnan(LC_raw)\n",
    "        Nnan = Wherenan.sum()\n",
    "        if( Nnan ):\n",
    "            print( '/!\\ NAN IN LIGHTCONES: %d'%(Nnan) )\n",
    "            LC_raw[ np.where( Wherenan ) ] = np.zeros( Nnan, dtype=np.float32 )\n",
    "        LC_mean = LC_raw.mean()\n",
    "        LC_raw -= LC_mean\n",
    "        LC_raw /= LC_mean\n",
    "        DATA_PS_mean[lc] = LC_mean\n",
    "\n",
    "        ### for all box in LC (i.e. for all redshift range)\n",
    "        for nbox in range(NBox):\n",
    "            tin_2 = time()\n",
    "            ### load LC box\n",
    "            #LC = read_1_LC_2( nbox, ICs=3, param=None, delta=lc, verbose=False )\n",
    "            LC = LC_raw[:,:, nbox*Nsize:(nbox+1)*Nsize]\n",
    "\n",
    "            FFT = fftpack.fftn( np.squeeze( LC * dV ) )\n",
    "            FFT_centered = fftpack.fftshift( FFT ) ### recenter the FFT\n",
    "            PS = np.abs( FFT_centered )**2 / (2*np.pi**2*Volume)\n",
    "\n",
    "            _, DATA_PS[ 0, lc, nbox, : ], DATA_PS[ 1, lc, nbox, : ], DATA_PS[ 2, lc, nbox, : ] = azimuthalAverage( PS, histo=True, center=True, nBins=bins, allR=False, logk=False )\n",
    "            ### k array \n",
    "            DATA_PS[ 0, lc, nbox, : ] *= dk\n",
    "            ### PS array\n",
    "            DATA_PS[ 1, lc, nbox, : ] *= DATA_PS[ 0, lc, nbox, : ]**3 * LC_mean**2\n",
    "            ### PS poisson error\n",
    "            DATA_PS[ 2, lc, nbox, : ] *= DATA_PS[ 0, lc, nbox, : ]**3 * LC_mean**2\n",
    "        \n",
    "        #loadbar( nbox, NBox, tin_2 )\n",
    "    loadbar( batch, Ntest, tin )"
   ]
  },
  {
   "cell_type": "markdown",
   "metadata": {
    "collapsed": true,
    "heading_collapsed": true
   },
   "source": [
    "# read LightconeSlice TEST"
   ]
  },
  {
   "cell_type": "code",
   "execution_count": null,
   "metadata": {
    "collapsed": true,
    "hidden": true
   },
   "outputs": [],
   "source": [
    "test = read_1LCSlice( delta=np.random.randint(0,9999), ICs=3, param=None, verbose=False )"
   ]
  },
  {
   "cell_type": "code",
   "execution_count": null,
   "metadata": {
    "collapsed": true,
    "hidden": true
   },
   "outputs": [],
   "source": [
    "test_gauss = gaussian_filter( test, 2, mode='mirror' )"
   ]
  },
  {
   "cell_type": "code",
   "execution_count": null,
   "metadata": {
    "collapsed": true,
    "hidden": true
   },
   "outputs": [],
   "source": [
    "min_val = -250\n",
    "max_val = 50\n",
    "fig = plt.figure(figsize=(10,1.))\n",
    "plt.imshow(test, cmap=EoR_colour, interpolation=None, vmin=min_val, vmax=max_val )\n",
    "fig = plt.figure(figsize=(10,1.))\n",
    "plt.imshow( test_gauss, cmap=EoR_colour, interpolation=None, vmin=min_val, vmax=max_val )"
   ]
  },
  {
   "cell_type": "code",
   "execution_count": null,
   "metadata": {
    "collapsed": true,
    "hidden": true
   },
   "outputs": [],
   "source": [
    "if 0:\n",
    "    Nsimu = 10000 # 12959\n",
    "    BoxL = 200 ### natural resolution, then cut in two\n",
    "    Nbox = 11\n",
    "    DATA = np.zeros( [Nsimu,BoxL,BoxL*Nbox] )\n",
    "\n",
    "    for lc in range( Nsimu ):\n",
    "        DATA[lc] = read_1LCSlice( delta=lc, ICs=3, param=None, verbose=False )"
   ]
  },
  {
   "cell_type": "code",
   "execution_count": null,
   "metadata": {
    "collapsed": true,
    "hidden": true
   },
   "outputs": [],
   "source": [
    "if 0:\n",
    "    ### find nan and put -250 (minimum, see Brad)\n",
    "    #DATA.flatten()[ np.where( np.isnan( DATA.flatten() ) )[0] ] = -250\n",
    "\n",
    "    ### Lets put 0 instead of NAN\n",
    "    Nnan = np.isnan(DATA).sum()\n",
    "    if( Nnan ):\n",
    "        print( '/!\\ NAN IN LIGHTCONES: %d'%(Nnan) )\n",
    "        DATA[ np.where( np.isnan(DATA) ) ] = np.zeros( Nnan, dtype=np.float32 )"
   ]
  },
  {
   "cell_type": "code",
   "execution_count": null,
   "metadata": {
    "collapsed": true,
    "hidden": true
   },
   "outputs": [],
   "source": [
    "if 0:\n",
    "    ### SAVE THE REDUCE DATABASE\n",
    "    #file_name = '/amphora/nicolas.gillet/LC_data/LC_3D_40_halfsize_10000_rand_ICs_3.npy'\n",
    "    #file_name = '/amphora/nicolas.gillet/LC_data/LC_3D_px50-2200_N10000_randICs.npy'\n",
    "    #file_name = '/amphora/nicolas.gillet/LC_data/LC_2Dz0_px200-2200_N10000_randICs.npy'\n",
    "    #file_name = '/amphora/nicolas.gillet/LC_data/LC_1Davg_px2200_N10000_randICs.npy'\n",
    "    file_name = '/amphora/nicolas.gillet/LC_data/LC_SLICE_px2200_N10000_randICs.npy'\n",
    "    np.save( file_name, DATA.astype('float32') )"
   ]
  },
  {
   "cell_type": "markdown",
   "metadata": {},
   "source": [
    "# FFT database"
   ]
  },
  {
   "cell_type": "code",
   "execution_count": null,
   "metadata": {},
   "outputs": [
    {
     "name": "stdout",
     "output_type": "stream",
     "text": [
      "[                    ] 0.6%, 18.8 s/iter, remain 186911.3 s, exec 1109.3 s"
     ]
    }
   ],
   "source": [
    "if 1:\n",
    "    from time import time\n",
    "    from lightcone_functions import read_1_LC_2\n",
    "    #read_1_LC_2( 0, param=None, delta=10, verbose=True )\n",
    "\n",
    "    ### 3D LC to 2d+f FFT \n",
    "    Nsimu = 10000 \n",
    "    BoxL = 200 \n",
    "    Nbox = 11\n",
    "    tmp_LC = np.zeros( (BoxL, BoxL, BoxL*Nbox), dtype=np.float32 )\n",
    "    #DATA = np.zeros( (Nsimu, BoxL, BoxL, BoxL*Nbox), dtype=np.float32 ) ### 2D\n",
    "    np.random.RandomState( np.random.seed(2235) )\n",
    "    tin = time()\n",
    "    NLC = Nsimu ### Nsimu\n",
    "    for d in range(NLC):\n",
    "        ### read the LC\n",
    "        for i in range(Nbox):\n",
    "            ax3 = i * BoxL\n",
    "            tmp_LC[ :, :, ax3:ax3+BoxL ] = read_1_LC_2( i, ICs=3, param=None, delta=d, verbose=False )\n",
    "        \n",
    "        ### do FFT and store data\n",
    "        #DATA[ ax0 ] = np.fft.fftshift( np.fft.fftn( tmp_LC, axes=(0,1) ), axes=(0,1) )\n",
    "        FFT_tmp_LC = np.fft.fftshift( np.fft.fftn( tmp_LC, axes=(0,1) ), axes=(0,1) ).astype(np.complex64)\n",
    "        \n",
    "        file_name = '/amphora/nicolas.gillet/LC_data/FFT_database/FFT_LC_{}.npy'.format(d)\n",
    "        np.save( file_name, FFT_tmp_LC )\n",
    "        \n",
    "        loadbar( d, NLC, tin )"
   ]
  },
  {
   "cell_type": "code",
   "execution_count": 40,
   "metadata": {},
   "outputs": [
    {
     "data": {
      "text/plain": [
       "704000000"
      ]
     },
     "execution_count": 40,
     "metadata": {},
     "output_type": "execute_result"
    }
   ],
   "source": [
    "FFT_tmp_LC.astype(np.complex64).nbytes "
   ]
  },
  {
   "cell_type": "code",
   "execution_count": null,
   "metadata": {
    "collapsed": true
   },
   "outputs": [],
   "source": [
    "tmp_LC.nbytes"
   ]
  },
  {
   "cell_type": "code",
   "execution_count": null,
   "metadata": {
    "collapsed": true
   },
   "outputs": [],
   "source": [
    "200*200*2200 *4"
   ]
  },
  {
   "cell_type": "markdown",
   "metadata": {},
   "source": [
    "# LIST DATABASE LC"
   ]
  },
  {
   "cell_type": "code",
   "execution_count": null,
   "metadata": {
    "collapsed": true
   },
   "outputs": [],
   "source": [
    "path = '/amphora/nicolas.gillet/LC_data/'\n",
    "\n",
    "db1 = 'LC_12959_grid_ICs_0.npy' ### 4.3G\n",
    "db2 = 'LC_12959_grid_ICs_1.npy' ### 4.3G\n",
    "\n",
    "db3 = 'LC_fullSlice_12959_grid_ICs_1.npy' ### 22G\n",
    "\n",
    "db4 = 'LC_3D_40_halfsize_12959_grid_ICs_1.npy' ### 8.5G\n",
    "db5 = 'LC_3D_40_halfsize_10000_rand_ICs_3.npy' ### 6.6G\n",
    "\n",
    "db6 = 'LCDB_test.npy' ### 6.6\n",
    "db7 = 'LCDB_150Mpc_r25.npy' ### 13G\n",
    "\n",
    "db8 = 'LC_3D_px50-2200_N10000_randICs.npy' ###205G\n",
    "db9 = 'LC_2Dz0_px200-2200_N10000_randICs.npy' ###205G\n",
    "\n",
    " \n",
    "                \n"
   ]
  },
  {
   "cell_type": "markdown",
   "metadata": {
    "heading_collapsed": true
   },
   "source": [
    "# BULLSHIT"
   ]
  },
  {
   "cell_type": "code",
   "execution_count": null,
   "metadata": {
    "collapsed": true,
    "hidden": true
   },
   "outputs": [],
   "source": [
    "LC = np.load( path+'LC_2Dz0_px200-2200_N10000_randICs.npy' )\n",
    "np.clip( LC, -250, 50, out=LC)\n",
    "LC.shape"
   ]
  },
  {
   "cell_type": "code",
   "execution_count": null,
   "metadata": {
    "collapsed": true,
    "hidden": true
   },
   "outputs": [],
   "source": [
    "LC_1D_avg = np.average( LC, axis=1 )\n",
    "LC_1D_avg.shape"
   ]
  },
  {
   "cell_type": "code",
   "execution_count": null,
   "metadata": {
    "collapsed": true,
    "hidden": true
   },
   "outputs": [],
   "source": [
    "np.where( LC_1D_avg==LC_1D_avg.max() )"
   ]
  },
  {
   "cell_type": "code",
   "execution_count": null,
   "metadata": {
    "collapsed": true,
    "hidden": true
   },
   "outputs": [],
   "source": [
    "LC_noAvg =  np.swapaxes( np.swapaxes(LC,0,1) - LC_1D_avg, 0, 1)\n",
    "LC_noAvg.shape"
   ]
  },
  {
   "cell_type": "code",
   "execution_count": null,
   "metadata": {
    "collapsed": true,
    "hidden": true
   },
   "outputs": [],
   "source": [
    "LC_noAvg_min = LC_noAvg.min( axis=(1,2) )\n",
    "LC_noAvg_max = LC_noAvg.max( axis=(1,2) )\n",
    "LC_noAvg_max.shape"
   ]
  },
  {
   "cell_type": "code",
   "execution_count": null,
   "metadata": {
    "collapsed": true,
    "hidden": true
   },
   "outputs": [],
   "source": [
    "LC_noAvg_norm = np.swapaxes(LC_noAvg,0,-1) - LC_noAvg_min\n",
    "LC_noAvg_norm = np.swapaxes( LC_noAvg_norm / ( LC_noAvg_max-LC_noAvg_min ), 0, -1)\n",
    "LC_noAvg_norm.shape"
   ]
  },
  {
   "cell_type": "code",
   "execution_count": null,
   "metadata": {
    "collapsed": true,
    "hidden": true
   },
   "outputs": [],
   "source": [
    "LC_noAvg_norm."
   ]
  },
  {
   "cell_type": "code",
   "execution_count": null,
   "metadata": {
    "collapsed": true,
    "hidden": true
   },
   "outputs": [],
   "source": [
    "def normalize_array_inplace( array, vmin=-250, vmax=50 ):\n",
    "    if np.isscalar(vmin):\n",
    "        array -= vmin\n",
    "        array /= (vmax-vmin)\n",
    "    else:\n",
    "        array -= vmin[:,np.newaxis,np.newaxis]\n",
    "        array /= (vmax-vmin)[:,np.newaxis,np.newaxis]"
   ]
  },
  {
   "cell_type": "code",
   "execution_count": null,
   "metadata": {
    "collapsed": true,
    "hidden": true
   },
   "outputs": [],
   "source": [
    "normalize_array_inplace( LC_noAvg, vmin=LC_noAvg.min(axis=(1,2)), vmax=LC_noAvg.max(axis=(1,2)) )"
   ]
  },
  {
   "cell_type": "code",
   "execution_count": null,
   "metadata": {
    "collapsed": true,
    "hidden": true
   },
   "outputs": [],
   "source": []
  },
  {
   "cell_type": "code",
   "execution_count": null,
   "metadata": {
    "collapsed": true,
    "hidden": true
   },
   "outputs": [],
   "source": [
    "LC_selected = 50\n",
    "\n",
    "min_val = -250\n",
    "max_val = 50\n",
    "fig = plt.figure(figsize=(10,1.))\n",
    "plt.imshow( LC[LC_selected,:,:], cmap=EoR_colour, interpolation=None, vmin=min_val, vmax=max_val )\n",
    "\n",
    "min_val = 0 #-250\n",
    "max_val = 1 #50\n",
    "fig = plt.figure(figsize=(10,1.))\n",
    "plt.imshow( LC_noAvg[LC_selected,:,:], cmap=EoR_colour, interpolation=None, vmin=min_val, vmax=max_val )\n",
    "\n",
    "min_val = 0\n",
    "max_val = 1\n",
    "fig = plt.figure(figsize=(10,1.))\n",
    "plt.imshow( LC_noAvg_norm[LC_selected,:,:], cmap='flag', interpolation=None, vmin=min_val, vmax=max_val )\n",
    "\n",
    "plt.figure()\n",
    "plt.plot( LC_1D_avg[LC_selected] )\n",
    "plt.plot( LC_noAvg_test[LC_selected] )\n"
   ]
  },
  {
   "cell_type": "code",
   "execution_count": null,
   "metadata": {
    "collapsed": true,
    "hidden": true
   },
   "outputs": [],
   "source": []
  },
  {
   "cell_type": "code",
   "execution_count": null,
   "metadata": {
    "collapsed": true,
    "hidden": true
   },
   "outputs": [],
   "source": []
  },
  {
   "cell_type": "code",
   "execution_count": null,
   "metadata": {
    "collapsed": true,
    "hidden": true
   },
   "outputs": [],
   "source": []
  },
  {
   "cell_type": "code",
   "execution_count": 1,
   "metadata": {
    "hidden": true
   },
   "outputs": [
    {
     "name": "stdout",
     "output_type": "stream",
     "text": [
      "all4           : True\n",
      "reduce_LC      : True\n",
      "substract_mean : False\n",
      "apply_gauss    : False\n",
      "reduce_CNN     : True\n",
      "Data loading\n",
      "Loading time: 25.333728\n",
      "Data normalization\n",
      "Reshaping LC\n",
      "LC shape (10000, 100, 2200)\n",
      "clip LC to vmin=-250, vmax=50\n",
      "Data reshape\n",
      "Data shape : (10000, 100, 2200, 1)\n",
      "Load the parameters\n",
      "Defining Train-Test sets\n",
      "Latin-Hypercube Sampling\n",
      "Number of LC: 10000 , train set:  8000 , test set:  2000\n"
     ]
    }
   ],
   "source": [
    "from lightcone_functions import LOAD_DATA, shrink_2D\n",
    "\n",
    "DATABASE = '300Mpc_r200_2D'\n",
    "RandomSeed = 2235\n",
    "all4 = True              ### LEARN THE 4 PARAMS AT THE SAME TIME\n",
    "reduce_LC = True         ### FOR 2D slice, use half of the image\n",
    "substract_mean = False   ### substract mean(f)  o the LC\n",
    "apply_gauss = False      ### apply an half gaussian of the LC\n",
    "reduce_CNN = True        ### smaller CNN\n",
    "\n",
    "if reduce_LC:\n",
    "    BoxSize = 100   \n",
    "\n",
    "print( 'all4           :', all4           )\n",
    "print( 'reduce_LC      :', reduce_LC      )\n",
    "print( 'substract_mean :', substract_mean )\n",
    "print( 'apply_gauss    :', apply_gauss    )\n",
    "print( 'reduce_CNN     :', reduce_CNN    )\n",
    "\n",
    "(LC_train,LC_test),(Param_train,Param_test), (Param_raw_train,Param_raw_test) = LOAD_DATA( RandomSeed=RandomSeed, \n",
    "                                                                                           trainSize=0.9, \n",
    "                                                                                           LHS=False,\n",
    "                                                                                           verbose=True,\n",
    "                                                                                           Nbins_LHS=8000,\n",
    "                                                                                           DATABASE=DATABASE,\n",
    "                                                                                           justParam=False,\n",
    "                                                                                           reduce_LC=reduce_LC, \n",
    "                                                                                           substract_mean=substract_mean,\n",
    "                                                                                           apply_gauss=apply_gauss,\n",
    "                                                                                           validation=False ) "
   ]
  },
  {
   "cell_type": "code",
   "execution_count": 11,
   "metadata": {
    "hidden": true
   },
   "outputs": [
    {
     "data": {
      "text/plain": [
       "(8000, 100, 2200, 1)"
      ]
     },
     "execution_count": 11,
     "metadata": {},
     "output_type": "execute_result"
    }
   ],
   "source": [
    "LC_train.shape"
   ]
  },
  {
   "cell_type": "code",
   "execution_count": 8,
   "metadata": {
    "hidden": true
   },
   "outputs": [
    {
     "data": {
      "application/javascript": [
       "/* Put everything inside the global mpl namespace */\n",
       "window.mpl = {};\n",
       "\n",
       "\n",
       "mpl.get_websocket_type = function() {\n",
       "    if (typeof(WebSocket) !== 'undefined') {\n",
       "        return WebSocket;\n",
       "    } else if (typeof(MozWebSocket) !== 'undefined') {\n",
       "        return MozWebSocket;\n",
       "    } else {\n",
       "        alert('Your browser does not have WebSocket support.' +\n",
       "              'Please try Chrome, Safari or Firefox ≥ 6. ' +\n",
       "              'Firefox 4 and 5 are also supported but you ' +\n",
       "              'have to enable WebSockets in about:config.');\n",
       "    };\n",
       "}\n",
       "\n",
       "mpl.figure = function(figure_id, websocket, ondownload, parent_element) {\n",
       "    this.id = figure_id;\n",
       "\n",
       "    this.ws = websocket;\n",
       "\n",
       "    this.supports_binary = (this.ws.binaryType != undefined);\n",
       "\n",
       "    if (!this.supports_binary) {\n",
       "        var warnings = document.getElementById(\"mpl-warnings\");\n",
       "        if (warnings) {\n",
       "            warnings.style.display = 'block';\n",
       "            warnings.textContent = (\n",
       "                \"This browser does not support binary websocket messages. \" +\n",
       "                    \"Performance may be slow.\");\n",
       "        }\n",
       "    }\n",
       "\n",
       "    this.imageObj = new Image();\n",
       "\n",
       "    this.context = undefined;\n",
       "    this.message = undefined;\n",
       "    this.canvas = undefined;\n",
       "    this.rubberband_canvas = undefined;\n",
       "    this.rubberband_context = undefined;\n",
       "    this.format_dropdown = undefined;\n",
       "\n",
       "    this.image_mode = 'full';\n",
       "\n",
       "    this.root = $('<div/>');\n",
       "    this._root_extra_style(this.root)\n",
       "    this.root.attr('style', 'display: inline-block');\n",
       "\n",
       "    $(parent_element).append(this.root);\n",
       "\n",
       "    this._init_header(this);\n",
       "    this._init_canvas(this);\n",
       "    this._init_toolbar(this);\n",
       "\n",
       "    var fig = this;\n",
       "\n",
       "    this.waiting = false;\n",
       "\n",
       "    this.ws.onopen =  function () {\n",
       "            fig.send_message(\"supports_binary\", {value: fig.supports_binary});\n",
       "            fig.send_message(\"send_image_mode\", {});\n",
       "            if (mpl.ratio != 1) {\n",
       "                fig.send_message(\"set_dpi_ratio\", {'dpi_ratio': mpl.ratio});\n",
       "            }\n",
       "            fig.send_message(\"refresh\", {});\n",
       "        }\n",
       "\n",
       "    this.imageObj.onload = function() {\n",
       "            if (fig.image_mode == 'full') {\n",
       "                // Full images could contain transparency (where diff images\n",
       "                // almost always do), so we need to clear the canvas so that\n",
       "                // there is no ghosting.\n",
       "                fig.context.clearRect(0, 0, fig.canvas.width, fig.canvas.height);\n",
       "            }\n",
       "            fig.context.drawImage(fig.imageObj, 0, 0);\n",
       "        };\n",
       "\n",
       "    this.imageObj.onunload = function() {\n",
       "        this.ws.close();\n",
       "    }\n",
       "\n",
       "    this.ws.onmessage = this._make_on_message_function(this);\n",
       "\n",
       "    this.ondownload = ondownload;\n",
       "}\n",
       "\n",
       "mpl.figure.prototype._init_header = function() {\n",
       "    var titlebar = $(\n",
       "        '<div class=\"ui-dialog-titlebar ui-widget-header ui-corner-all ' +\n",
       "        'ui-helper-clearfix\"/>');\n",
       "    var titletext = $(\n",
       "        '<div class=\"ui-dialog-title\" style=\"width: 100%; ' +\n",
       "        'text-align: center; padding: 3px;\"/>');\n",
       "    titlebar.append(titletext)\n",
       "    this.root.append(titlebar);\n",
       "    this.header = titletext[0];\n",
       "}\n",
       "\n",
       "\n",
       "\n",
       "mpl.figure.prototype._canvas_extra_style = function(canvas_div) {\n",
       "\n",
       "}\n",
       "\n",
       "\n",
       "mpl.figure.prototype._root_extra_style = function(canvas_div) {\n",
       "\n",
       "}\n",
       "\n",
       "mpl.figure.prototype._init_canvas = function() {\n",
       "    var fig = this;\n",
       "\n",
       "    var canvas_div = $('<div/>');\n",
       "\n",
       "    canvas_div.attr('style', 'position: relative; clear: both; outline: 0');\n",
       "\n",
       "    function canvas_keyboard_event(event) {\n",
       "        return fig.key_event(event, event['data']);\n",
       "    }\n",
       "\n",
       "    canvas_div.keydown('key_press', canvas_keyboard_event);\n",
       "    canvas_div.keyup('key_release', canvas_keyboard_event);\n",
       "    this.canvas_div = canvas_div\n",
       "    this._canvas_extra_style(canvas_div)\n",
       "    this.root.append(canvas_div);\n",
       "\n",
       "    var canvas = $('<canvas/>');\n",
       "    canvas.addClass('mpl-canvas');\n",
       "    canvas.attr('style', \"left: 0; top: 0; z-index: 0; outline: 0\")\n",
       "\n",
       "    this.canvas = canvas[0];\n",
       "    this.context = canvas[0].getContext(\"2d\");\n",
       "\n",
       "    var backingStore = this.context.backingStorePixelRatio ||\n",
       "\tthis.context.webkitBackingStorePixelRatio ||\n",
       "\tthis.context.mozBackingStorePixelRatio ||\n",
       "\tthis.context.msBackingStorePixelRatio ||\n",
       "\tthis.context.oBackingStorePixelRatio ||\n",
       "\tthis.context.backingStorePixelRatio || 1;\n",
       "\n",
       "    mpl.ratio = (window.devicePixelRatio || 1) / backingStore;\n",
       "\n",
       "    var rubberband = $('<canvas/>');\n",
       "    rubberband.attr('style', \"position: absolute; left: 0; top: 0; z-index: 1;\")\n",
       "\n",
       "    var pass_mouse_events = true;\n",
       "\n",
       "    canvas_div.resizable({\n",
       "        start: function(event, ui) {\n",
       "            pass_mouse_events = false;\n",
       "        },\n",
       "        resize: function(event, ui) {\n",
       "            fig.request_resize(ui.size.width, ui.size.height);\n",
       "        },\n",
       "        stop: function(event, ui) {\n",
       "            pass_mouse_events = true;\n",
       "            fig.request_resize(ui.size.width, ui.size.height);\n",
       "        },\n",
       "    });\n",
       "\n",
       "    function mouse_event_fn(event) {\n",
       "        if (pass_mouse_events)\n",
       "            return fig.mouse_event(event, event['data']);\n",
       "    }\n",
       "\n",
       "    rubberband.mousedown('button_press', mouse_event_fn);\n",
       "    rubberband.mouseup('button_release', mouse_event_fn);\n",
       "    // Throttle sequential mouse events to 1 every 20ms.\n",
       "    rubberband.mousemove('motion_notify', mouse_event_fn);\n",
       "\n",
       "    rubberband.mouseenter('figure_enter', mouse_event_fn);\n",
       "    rubberband.mouseleave('figure_leave', mouse_event_fn);\n",
       "\n",
       "    canvas_div.on(\"wheel\", function (event) {\n",
       "        event = event.originalEvent;\n",
       "        event['data'] = 'scroll'\n",
       "        if (event.deltaY < 0) {\n",
       "            event.step = 1;\n",
       "        } else {\n",
       "            event.step = -1;\n",
       "        }\n",
       "        mouse_event_fn(event);\n",
       "    });\n",
       "\n",
       "    canvas_div.append(canvas);\n",
       "    canvas_div.append(rubberband);\n",
       "\n",
       "    this.rubberband = rubberband;\n",
       "    this.rubberband_canvas = rubberband[0];\n",
       "    this.rubberband_context = rubberband[0].getContext(\"2d\");\n",
       "    this.rubberband_context.strokeStyle = \"#000000\";\n",
       "\n",
       "    this._resize_canvas = function(width, height) {\n",
       "        // Keep the size of the canvas, canvas container, and rubber band\n",
       "        // canvas in synch.\n",
       "        canvas_div.css('width', width)\n",
       "        canvas_div.css('height', height)\n",
       "\n",
       "        canvas.attr('width', width * mpl.ratio);\n",
       "        canvas.attr('height', height * mpl.ratio);\n",
       "        canvas.attr('style', 'width: ' + width + 'px; height: ' + height + 'px;');\n",
       "\n",
       "        rubberband.attr('width', width);\n",
       "        rubberband.attr('height', height);\n",
       "    }\n",
       "\n",
       "    // Set the figure to an initial 600x600px, this will subsequently be updated\n",
       "    // upon first draw.\n",
       "    this._resize_canvas(600, 600);\n",
       "\n",
       "    // Disable right mouse context menu.\n",
       "    $(this.rubberband_canvas).bind(\"contextmenu\",function(e){\n",
       "        return false;\n",
       "    });\n",
       "\n",
       "    function set_focus () {\n",
       "        canvas.focus();\n",
       "        canvas_div.focus();\n",
       "    }\n",
       "\n",
       "    window.setTimeout(set_focus, 100);\n",
       "}\n",
       "\n",
       "mpl.figure.prototype._init_toolbar = function() {\n",
       "    var fig = this;\n",
       "\n",
       "    var nav_element = $('<div/>')\n",
       "    nav_element.attr('style', 'width: 100%');\n",
       "    this.root.append(nav_element);\n",
       "\n",
       "    // Define a callback function for later on.\n",
       "    function toolbar_event(event) {\n",
       "        return fig.toolbar_button_onclick(event['data']);\n",
       "    }\n",
       "    function toolbar_mouse_event(event) {\n",
       "        return fig.toolbar_button_onmouseover(event['data']);\n",
       "    }\n",
       "\n",
       "    for(var toolbar_ind in mpl.toolbar_items) {\n",
       "        var name = mpl.toolbar_items[toolbar_ind][0];\n",
       "        var tooltip = mpl.toolbar_items[toolbar_ind][1];\n",
       "        var image = mpl.toolbar_items[toolbar_ind][2];\n",
       "        var method_name = mpl.toolbar_items[toolbar_ind][3];\n",
       "\n",
       "        if (!name) {\n",
       "            // put a spacer in here.\n",
       "            continue;\n",
       "        }\n",
       "        var button = $('<button/>');\n",
       "        button.addClass('ui-button ui-widget ui-state-default ui-corner-all ' +\n",
       "                        'ui-button-icon-only');\n",
       "        button.attr('role', 'button');\n",
       "        button.attr('aria-disabled', 'false');\n",
       "        button.click(method_name, toolbar_event);\n",
       "        button.mouseover(tooltip, toolbar_mouse_event);\n",
       "\n",
       "        var icon_img = $('<span/>');\n",
       "        icon_img.addClass('ui-button-icon-primary ui-icon');\n",
       "        icon_img.addClass(image);\n",
       "        icon_img.addClass('ui-corner-all');\n",
       "\n",
       "        var tooltip_span = $('<span/>');\n",
       "        tooltip_span.addClass('ui-button-text');\n",
       "        tooltip_span.html(tooltip);\n",
       "\n",
       "        button.append(icon_img);\n",
       "        button.append(tooltip_span);\n",
       "\n",
       "        nav_element.append(button);\n",
       "    }\n",
       "\n",
       "    var fmt_picker_span = $('<span/>');\n",
       "\n",
       "    var fmt_picker = $('<select/>');\n",
       "    fmt_picker.addClass('mpl-toolbar-option ui-widget ui-widget-content');\n",
       "    fmt_picker_span.append(fmt_picker);\n",
       "    nav_element.append(fmt_picker_span);\n",
       "    this.format_dropdown = fmt_picker[0];\n",
       "\n",
       "    for (var ind in mpl.extensions) {\n",
       "        var fmt = mpl.extensions[ind];\n",
       "        var option = $(\n",
       "            '<option/>', {selected: fmt === mpl.default_extension}).html(fmt);\n",
       "        fmt_picker.append(option)\n",
       "    }\n",
       "\n",
       "    // Add hover states to the ui-buttons\n",
       "    $( \".ui-button\" ).hover(\n",
       "        function() { $(this).addClass(\"ui-state-hover\");},\n",
       "        function() { $(this).removeClass(\"ui-state-hover\");}\n",
       "    );\n",
       "\n",
       "    var status_bar = $('<span class=\"mpl-message\"/>');\n",
       "    nav_element.append(status_bar);\n",
       "    this.message = status_bar[0];\n",
       "}\n",
       "\n",
       "mpl.figure.prototype.request_resize = function(x_pixels, y_pixels) {\n",
       "    // Request matplotlib to resize the figure. Matplotlib will then trigger a resize in the client,\n",
       "    // which will in turn request a refresh of the image.\n",
       "    this.send_message('resize', {'width': x_pixels, 'height': y_pixels});\n",
       "}\n",
       "\n",
       "mpl.figure.prototype.send_message = function(type, properties) {\n",
       "    properties['type'] = type;\n",
       "    properties['figure_id'] = this.id;\n",
       "    this.ws.send(JSON.stringify(properties));\n",
       "}\n",
       "\n",
       "mpl.figure.prototype.send_draw_message = function() {\n",
       "    if (!this.waiting) {\n",
       "        this.waiting = true;\n",
       "        this.ws.send(JSON.stringify({type: \"draw\", figure_id: this.id}));\n",
       "    }\n",
       "}\n",
       "\n",
       "\n",
       "mpl.figure.prototype.handle_save = function(fig, msg) {\n",
       "    var format_dropdown = fig.format_dropdown;\n",
       "    var format = format_dropdown.options[format_dropdown.selectedIndex].value;\n",
       "    fig.ondownload(fig, format);\n",
       "}\n",
       "\n",
       "\n",
       "mpl.figure.prototype.handle_resize = function(fig, msg) {\n",
       "    var size = msg['size'];\n",
       "    if (size[0] != fig.canvas.width || size[1] != fig.canvas.height) {\n",
       "        fig._resize_canvas(size[0], size[1]);\n",
       "        fig.send_message(\"refresh\", {});\n",
       "    };\n",
       "}\n",
       "\n",
       "mpl.figure.prototype.handle_rubberband = function(fig, msg) {\n",
       "    var x0 = msg['x0'] / mpl.ratio;\n",
       "    var y0 = (fig.canvas.height - msg['y0']) / mpl.ratio;\n",
       "    var x1 = msg['x1'] / mpl.ratio;\n",
       "    var y1 = (fig.canvas.height - msg['y1']) / mpl.ratio;\n",
       "    x0 = Math.floor(x0) + 0.5;\n",
       "    y0 = Math.floor(y0) + 0.5;\n",
       "    x1 = Math.floor(x1) + 0.5;\n",
       "    y1 = Math.floor(y1) + 0.5;\n",
       "    var min_x = Math.min(x0, x1);\n",
       "    var min_y = Math.min(y0, y1);\n",
       "    var width = Math.abs(x1 - x0);\n",
       "    var height = Math.abs(y1 - y0);\n",
       "\n",
       "    fig.rubberband_context.clearRect(\n",
       "        0, 0, fig.canvas.width, fig.canvas.height);\n",
       "\n",
       "    fig.rubberband_context.strokeRect(min_x, min_y, width, height);\n",
       "}\n",
       "\n",
       "mpl.figure.prototype.handle_figure_label = function(fig, msg) {\n",
       "    // Updates the figure title.\n",
       "    fig.header.textContent = msg['label'];\n",
       "}\n",
       "\n",
       "mpl.figure.prototype.handle_cursor = function(fig, msg) {\n",
       "    var cursor = msg['cursor'];\n",
       "    switch(cursor)\n",
       "    {\n",
       "    case 0:\n",
       "        cursor = 'pointer';\n",
       "        break;\n",
       "    case 1:\n",
       "        cursor = 'default';\n",
       "        break;\n",
       "    case 2:\n",
       "        cursor = 'crosshair';\n",
       "        break;\n",
       "    case 3:\n",
       "        cursor = 'move';\n",
       "        break;\n",
       "    }\n",
       "    fig.rubberband_canvas.style.cursor = cursor;\n",
       "}\n",
       "\n",
       "mpl.figure.prototype.handle_message = function(fig, msg) {\n",
       "    fig.message.textContent = msg['message'];\n",
       "}\n",
       "\n",
       "mpl.figure.prototype.handle_draw = function(fig, msg) {\n",
       "    // Request the server to send over a new figure.\n",
       "    fig.send_draw_message();\n",
       "}\n",
       "\n",
       "mpl.figure.prototype.handle_image_mode = function(fig, msg) {\n",
       "    fig.image_mode = msg['mode'];\n",
       "}\n",
       "\n",
       "mpl.figure.prototype.updated_canvas_event = function() {\n",
       "    // Called whenever the canvas gets updated.\n",
       "    this.send_message(\"ack\", {});\n",
       "}\n",
       "\n",
       "// A function to construct a web socket function for onmessage handling.\n",
       "// Called in the figure constructor.\n",
       "mpl.figure.prototype._make_on_message_function = function(fig) {\n",
       "    return function socket_on_message(evt) {\n",
       "        if (evt.data instanceof Blob) {\n",
       "            /* FIXME: We get \"Resource interpreted as Image but\n",
       "             * transferred with MIME type text/plain:\" errors on\n",
       "             * Chrome.  But how to set the MIME type?  It doesn't seem\n",
       "             * to be part of the websocket stream */\n",
       "            evt.data.type = \"image/png\";\n",
       "\n",
       "            /* Free the memory for the previous frames */\n",
       "            if (fig.imageObj.src) {\n",
       "                (window.URL || window.webkitURL).revokeObjectURL(\n",
       "                    fig.imageObj.src);\n",
       "            }\n",
       "\n",
       "            fig.imageObj.src = (window.URL || window.webkitURL).createObjectURL(\n",
       "                evt.data);\n",
       "            fig.updated_canvas_event();\n",
       "            fig.waiting = false;\n",
       "            return;\n",
       "        }\n",
       "        else if (typeof evt.data === 'string' && evt.data.slice(0, 21) == \"data:image/png;base64\") {\n",
       "            fig.imageObj.src = evt.data;\n",
       "            fig.updated_canvas_event();\n",
       "            fig.waiting = false;\n",
       "            return;\n",
       "        }\n",
       "\n",
       "        var msg = JSON.parse(evt.data);\n",
       "        var msg_type = msg['type'];\n",
       "\n",
       "        // Call the  \"handle_{type}\" callback, which takes\n",
       "        // the figure and JSON message as its only arguments.\n",
       "        try {\n",
       "            var callback = fig[\"handle_\" + msg_type];\n",
       "        } catch (e) {\n",
       "            console.log(\"No handler for the '\" + msg_type + \"' message type: \", msg);\n",
       "            return;\n",
       "        }\n",
       "\n",
       "        if (callback) {\n",
       "            try {\n",
       "                // console.log(\"Handling '\" + msg_type + \"' message: \", msg);\n",
       "                callback(fig, msg);\n",
       "            } catch (e) {\n",
       "                console.log(\"Exception inside the 'handler_\" + msg_type + \"' callback:\", e, e.stack, msg);\n",
       "            }\n",
       "        }\n",
       "    };\n",
       "}\n",
       "\n",
       "// from http://stackoverflow.com/questions/1114465/getting-mouse-location-in-canvas\n",
       "mpl.findpos = function(e) {\n",
       "    //this section is from http://www.quirksmode.org/js/events_properties.html\n",
       "    var targ;\n",
       "    if (!e)\n",
       "        e = window.event;\n",
       "    if (e.target)\n",
       "        targ = e.target;\n",
       "    else if (e.srcElement)\n",
       "        targ = e.srcElement;\n",
       "    if (targ.nodeType == 3) // defeat Safari bug\n",
       "        targ = targ.parentNode;\n",
       "\n",
       "    // jQuery normalizes the pageX and pageY\n",
       "    // pageX,Y are the mouse positions relative to the document\n",
       "    // offset() returns the position of the element relative to the document\n",
       "    var x = e.pageX - $(targ).offset().left;\n",
       "    var y = e.pageY - $(targ).offset().top;\n",
       "\n",
       "    return {\"x\": x, \"y\": y};\n",
       "};\n",
       "\n",
       "/*\n",
       " * return a copy of an object with only non-object keys\n",
       " * we need this to avoid circular references\n",
       " * http://stackoverflow.com/a/24161582/3208463\n",
       " */\n",
       "function simpleKeys (original) {\n",
       "  return Object.keys(original).reduce(function (obj, key) {\n",
       "    if (typeof original[key] !== 'object')\n",
       "        obj[key] = original[key]\n",
       "    return obj;\n",
       "  }, {});\n",
       "}\n",
       "\n",
       "mpl.figure.prototype.mouse_event = function(event, name) {\n",
       "    var canvas_pos = mpl.findpos(event)\n",
       "\n",
       "    if (name === 'button_press')\n",
       "    {\n",
       "        this.canvas.focus();\n",
       "        this.canvas_div.focus();\n",
       "    }\n",
       "\n",
       "    var x = canvas_pos.x * mpl.ratio;\n",
       "    var y = canvas_pos.y * mpl.ratio;\n",
       "\n",
       "    this.send_message(name, {x: x, y: y, button: event.button,\n",
       "                             step: event.step,\n",
       "                             guiEvent: simpleKeys(event)});\n",
       "\n",
       "    /* This prevents the web browser from automatically changing to\n",
       "     * the text insertion cursor when the button is pressed.  We want\n",
       "     * to control all of the cursor setting manually through the\n",
       "     * 'cursor' event from matplotlib */\n",
       "    event.preventDefault();\n",
       "    return false;\n",
       "}\n",
       "\n",
       "mpl.figure.prototype._key_event_extra = function(event, name) {\n",
       "    // Handle any extra behaviour associated with a key event\n",
       "}\n",
       "\n",
       "mpl.figure.prototype.key_event = function(event, name) {\n",
       "\n",
       "    // Prevent repeat events\n",
       "    if (name == 'key_press')\n",
       "    {\n",
       "        if (event.which === this._key)\n",
       "            return;\n",
       "        else\n",
       "            this._key = event.which;\n",
       "    }\n",
       "    if (name == 'key_release')\n",
       "        this._key = null;\n",
       "\n",
       "    var value = '';\n",
       "    if (event.ctrlKey && event.which != 17)\n",
       "        value += \"ctrl+\";\n",
       "    if (event.altKey && event.which != 18)\n",
       "        value += \"alt+\";\n",
       "    if (event.shiftKey && event.which != 16)\n",
       "        value += \"shift+\";\n",
       "\n",
       "    value += 'k';\n",
       "    value += event.which.toString();\n",
       "\n",
       "    this._key_event_extra(event, name);\n",
       "\n",
       "    this.send_message(name, {key: value,\n",
       "                             guiEvent: simpleKeys(event)});\n",
       "    return false;\n",
       "}\n",
       "\n",
       "mpl.figure.prototype.toolbar_button_onclick = function(name) {\n",
       "    if (name == 'download') {\n",
       "        this.handle_save(this, null);\n",
       "    } else {\n",
       "        this.send_message(\"toolbar_button\", {name: name});\n",
       "    }\n",
       "};\n",
       "\n",
       "mpl.figure.prototype.toolbar_button_onmouseover = function(tooltip) {\n",
       "    this.message.textContent = tooltip;\n",
       "};\n",
       "mpl.toolbar_items = [[\"Home\", \"Reset original view\", \"fa fa-home icon-home\", \"home\"], [\"Back\", \"Back to  previous view\", \"fa fa-arrow-left icon-arrow-left\", \"back\"], [\"Forward\", \"Forward to next view\", \"fa fa-arrow-right icon-arrow-right\", \"forward\"], [\"\", \"\", \"\", \"\"], [\"Pan\", \"Pan axes with left mouse, zoom with right\", \"fa fa-arrows icon-move\", \"pan\"], [\"Zoom\", \"Zoom to rectangle\", \"fa fa-square-o icon-check-empty\", \"zoom\"], [\"\", \"\", \"\", \"\"], [\"Download\", \"Download plot\", \"fa fa-floppy-o icon-save\", \"download\"]];\n",
       "\n",
       "mpl.extensions = [\"eps\", \"jpeg\", \"pdf\", \"png\", \"ps\", \"raw\", \"svg\", \"tif\"];\n",
       "\n",
       "mpl.default_extension = \"png\";var comm_websocket_adapter = function(comm) {\n",
       "    // Create a \"websocket\"-like object which calls the given IPython comm\n",
       "    // object with the appropriate methods. Currently this is a non binary\n",
       "    // socket, so there is still some room for performance tuning.\n",
       "    var ws = {};\n",
       "\n",
       "    ws.close = function() {\n",
       "        comm.close()\n",
       "    };\n",
       "    ws.send = function(m) {\n",
       "        //console.log('sending', m);\n",
       "        comm.send(m);\n",
       "    };\n",
       "    // Register the callback with on_msg.\n",
       "    comm.on_msg(function(msg) {\n",
       "        //console.log('receiving', msg['content']['data'], msg);\n",
       "        // Pass the mpl event to the overriden (by mpl) onmessage function.\n",
       "        ws.onmessage(msg['content']['data'])\n",
       "    });\n",
       "    return ws;\n",
       "}\n",
       "\n",
       "mpl.mpl_figure_comm = function(comm, msg) {\n",
       "    // This is the function which gets called when the mpl process\n",
       "    // starts-up an IPython Comm through the \"matplotlib\" channel.\n",
       "\n",
       "    var id = msg.content.data.id;\n",
       "    // Get hold of the div created by the display call when the Comm\n",
       "    // socket was opened in Python.\n",
       "    var element = $(\"#\" + id);\n",
       "    var ws_proxy = comm_websocket_adapter(comm)\n",
       "\n",
       "    function ondownload(figure, format) {\n",
       "        window.open(figure.imageObj.src);\n",
       "    }\n",
       "\n",
       "    var fig = new mpl.figure(id, ws_proxy,\n",
       "                           ondownload,\n",
       "                           element.get(0));\n",
       "\n",
       "    // Call onopen now - mpl needs it, as it is assuming we've passed it a real\n",
       "    // web socket which is closed, not our websocket->open comm proxy.\n",
       "    ws_proxy.onopen();\n",
       "\n",
       "    fig.parent_element = element.get(0);\n",
       "    fig.cell_info = mpl.find_output_cell(\"<div id='\" + id + \"'></div>\");\n",
       "    if (!fig.cell_info) {\n",
       "        console.error(\"Failed to find cell for figure\", id, fig);\n",
       "        return;\n",
       "    }\n",
       "\n",
       "    var output_index = fig.cell_info[2]\n",
       "    var cell = fig.cell_info[0];\n",
       "\n",
       "};\n",
       "\n",
       "mpl.figure.prototype.handle_close = function(fig, msg) {\n",
       "    var width = fig.canvas.width/mpl.ratio\n",
       "    fig.root.unbind('remove')\n",
       "\n",
       "    // Update the output cell to use the data from the current canvas.\n",
       "    fig.push_to_output();\n",
       "    var dataURL = fig.canvas.toDataURL();\n",
       "    // Re-enable the keyboard manager in IPython - without this line, in FF,\n",
       "    // the notebook keyboard shortcuts fail.\n",
       "    IPython.keyboard_manager.enable()\n",
       "    $(fig.parent_element).html('<img src=\"' + dataURL + '\" width=\"' + width + '\">');\n",
       "    fig.close_ws(fig, msg);\n",
       "}\n",
       "\n",
       "mpl.figure.prototype.close_ws = function(fig, msg){\n",
       "    fig.send_message('closing', msg);\n",
       "    // fig.ws.close()\n",
       "}\n",
       "\n",
       "mpl.figure.prototype.push_to_output = function(remove_interactive) {\n",
       "    // Turn the data on the canvas into data in the output cell.\n",
       "    var width = this.canvas.width/mpl.ratio\n",
       "    var dataURL = this.canvas.toDataURL();\n",
       "    this.cell_info[1]['text/html'] = '<img src=\"' + dataURL + '\" width=\"' + width + '\">';\n",
       "}\n",
       "\n",
       "mpl.figure.prototype.updated_canvas_event = function() {\n",
       "    // Tell IPython that the notebook contents must change.\n",
       "    IPython.notebook.set_dirty(true);\n",
       "    this.send_message(\"ack\", {});\n",
       "    var fig = this;\n",
       "    // Wait a second, then push the new image to the DOM so\n",
       "    // that it is saved nicely (might be nice to debounce this).\n",
       "    setTimeout(function () { fig.push_to_output() }, 1000);\n",
       "}\n",
       "\n",
       "mpl.figure.prototype._init_toolbar = function() {\n",
       "    var fig = this;\n",
       "\n",
       "    var nav_element = $('<div/>')\n",
       "    nav_element.attr('style', 'width: 100%');\n",
       "    this.root.append(nav_element);\n",
       "\n",
       "    // Define a callback function for later on.\n",
       "    function toolbar_event(event) {\n",
       "        return fig.toolbar_button_onclick(event['data']);\n",
       "    }\n",
       "    function toolbar_mouse_event(event) {\n",
       "        return fig.toolbar_button_onmouseover(event['data']);\n",
       "    }\n",
       "\n",
       "    for(var toolbar_ind in mpl.toolbar_items){\n",
       "        var name = mpl.toolbar_items[toolbar_ind][0];\n",
       "        var tooltip = mpl.toolbar_items[toolbar_ind][1];\n",
       "        var image = mpl.toolbar_items[toolbar_ind][2];\n",
       "        var method_name = mpl.toolbar_items[toolbar_ind][3];\n",
       "\n",
       "        if (!name) { continue; };\n",
       "\n",
       "        var button = $('<button class=\"btn btn-default\" href=\"#\" title=\"' + name + '\"><i class=\"fa ' + image + ' fa-lg\"></i></button>');\n",
       "        button.click(method_name, toolbar_event);\n",
       "        button.mouseover(tooltip, toolbar_mouse_event);\n",
       "        nav_element.append(button);\n",
       "    }\n",
       "\n",
       "    // Add the status bar.\n",
       "    var status_bar = $('<span class=\"mpl-message\" style=\"text-align:right; float: right;\"/>');\n",
       "    nav_element.append(status_bar);\n",
       "    this.message = status_bar[0];\n",
       "\n",
       "    // Add the close button to the window.\n",
       "    var buttongrp = $('<div class=\"btn-group inline pull-right\"></div>');\n",
       "    var button = $('<button class=\"btn btn-mini btn-primary\" href=\"#\" title=\"Stop Interaction\"><i class=\"fa fa-power-off icon-remove icon-large\"></i></button>');\n",
       "    button.click(function (evt) { fig.handle_close(fig, {}); } );\n",
       "    button.mouseover('Stop Interaction', toolbar_mouse_event);\n",
       "    buttongrp.append(button);\n",
       "    var titlebar = this.root.find($('.ui-dialog-titlebar'));\n",
       "    titlebar.prepend(buttongrp);\n",
       "}\n",
       "\n",
       "mpl.figure.prototype._root_extra_style = function(el){\n",
       "    var fig = this\n",
       "    el.on(\"remove\", function(){\n",
       "\tfig.close_ws(fig, {});\n",
       "    });\n",
       "}\n",
       "\n",
       "mpl.figure.prototype._canvas_extra_style = function(el){\n",
       "    // this is important to make the div 'focusable\n",
       "    el.attr('tabindex', 0)\n",
       "    // reach out to IPython and tell the keyboard manager to turn it's self\n",
       "    // off when our div gets focus\n",
       "\n",
       "    // location in version 3\n",
       "    if (IPython.notebook.keyboard_manager) {\n",
       "        IPython.notebook.keyboard_manager.register_events(el);\n",
       "    }\n",
       "    else {\n",
       "        // location in version 2\n",
       "        IPython.keyboard_manager.register_events(el);\n",
       "    }\n",
       "\n",
       "}\n",
       "\n",
       "mpl.figure.prototype._key_event_extra = function(event, name) {\n",
       "    var manager = IPython.notebook.keyboard_manager;\n",
       "    if (!manager)\n",
       "        manager = IPython.keyboard_manager;\n",
       "\n",
       "    // Check for shift+enter\n",
       "    if (event.shiftKey && event.which == 13) {\n",
       "        this.canvas_div.blur();\n",
       "        // select the cell after this one\n",
       "        var index = IPython.notebook.find_cell_index(this.cell_info[0]);\n",
       "        IPython.notebook.select(index + 1);\n",
       "    }\n",
       "}\n",
       "\n",
       "mpl.figure.prototype.handle_save = function(fig, msg) {\n",
       "    fig.ondownload(fig, null);\n",
       "}\n",
       "\n",
       "\n",
       "mpl.find_output_cell = function(html_output) {\n",
       "    // Return the cell and output element which can be found *uniquely* in the notebook.\n",
       "    // Note - this is a bit hacky, but it is done because the \"notebook_saving.Notebook\"\n",
       "    // IPython event is triggered only after the cells have been serialised, which for\n",
       "    // our purposes (turning an active figure into a static one), is too late.\n",
       "    var cells = IPython.notebook.get_cells();\n",
       "    var ncells = cells.length;\n",
       "    for (var i=0; i<ncells; i++) {\n",
       "        var cell = cells[i];\n",
       "        if (cell.cell_type === 'code'){\n",
       "            for (var j=0; j<cell.output_area.outputs.length; j++) {\n",
       "                var data = cell.output_area.outputs[j];\n",
       "                if (data.data) {\n",
       "                    // IPython >= 3 moved mimebundle to data attribute of output\n",
       "                    data = data.data;\n",
       "                }\n",
       "                if (data['text/html'] == html_output) {\n",
       "                    return [cell, data, j];\n",
       "                }\n",
       "            }\n",
       "        }\n",
       "    }\n",
       "}\n",
       "\n",
       "// Register the function which deals with the matplotlib target/channel.\n",
       "// The kernel may be null if the page has been refreshed.\n",
       "if (IPython.notebook.kernel != null) {\n",
       "    IPython.notebook.kernel.comm_manager.register_target('matplotlib', mpl.mpl_figure_comm);\n",
       "}\n"
      ],
      "text/plain": [
       "<IPython.core.display.Javascript object>"
      ]
     },
     "metadata": {},
     "output_type": "display_data"
    },
    {
     "data": {
      "text/html": [
       "<img src=\"data:image/png;base64,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\" width=\"1000\">"
      ],
      "text/plain": [
       "<IPython.core.display.HTML object>"
      ]
     },
     "metadata": {},
     "output_type": "display_data"
    },
    {
     "data": {
      "text/plain": [
       "<matplotlib.image.AxesImage at 0x7ffdacb289b0>"
      ]
     },
     "execution_count": 8,
     "metadata": {},
     "output_type": "execute_result"
    }
   ],
   "source": [
    "min_val = 0\n",
    "max_val = 1\n",
    "fig = plt.figure(figsize=(10,1.))\n",
    "plt.imshow( LC_train[5500,:,:,0], cmap=EoR_colour, interpolation=None, vmin=min_val, vmax=max_val )"
   ]
  },
  {
   "cell_type": "code",
   "execution_count": null,
   "metadata": {
    "collapsed": true,
    "hidden": true
   },
   "outputs": [],
   "source": []
  },
  {
   "cell_type": "code",
   "execution_count": null,
   "metadata": {
    "collapsed": true,
    "hidden": true
   },
   "outputs": [],
   "source": [
    "plt.figure()\n",
    "plt.plot( x, contrast )"
   ]
  },
  {
   "cell_type": "code",
   "execution_count": null,
   "metadata": {
    "collapsed": true,
    "hidden": true
   },
   "outputs": [],
   "source": [
    "LC_train = np.swapaxes( LC_train, 2, 3 )\n",
    "LC_train *= contrast\n",
    "LC_train = np.swapaxes( LC_train, 2, 3 )"
   ]
  },
  {
   "cell_type": "code",
   "execution_count": null,
   "metadata": {
    "collapsed": true,
    "hidden": true
   },
   "outputs": [],
   "source": [
    "LC_train.shape"
   ]
  },
  {
   "cell_type": "code",
   "execution_count": null,
   "metadata": {
    "collapsed": true,
    "hidden": true
   },
   "outputs": [],
   "source": []
  },
  {
   "cell_type": "code",
   "execution_count": null,
   "metadata": {
    "collapsed": true,
    "hidden": true
   },
   "outputs": [],
   "source": [
    "LC_train = np.swapaxes( LC_train, 2, 3 )"
   ]
  },
  {
   "cell_type": "code",
   "execution_count": null,
   "metadata": {
    "collapsed": true,
    "hidden": true
   },
   "outputs": [],
   "source": [
    "min_val = 0\n",
    "max_val = 1\n",
    "fig = plt.figure(figsize=(10,1.))\n",
    "plt.imshow( LC_train[0,:,:,0], cmap=EoR_colour, interpolation=None, vmin=min_val, vmax=max_val )"
   ]
  },
  {
   "cell_type": "code",
   "execution_count": null,
   "metadata": {
    "collapsed": true,
    "hidden": true
   },
   "outputs": [],
   "source": [
    "min_val = 0\n",
    "max_val = 1\n",
    "fig = plt.figure(figsize=(10,1.))\n",
    "plt.imshow( LC_train[0,:,:,0], cmap=EoR_colour, interpolation=None, vmin=min_val, vmax=max_val )\n",
    "\n",
    "fig = plt.figure(figsize=(10,1.))\n",
    "plt.imshow( LC_train[0,:,:,0] * contrast, cmap=EoR_colour, interpolation=None, vmin=min_val, vmax=max_val )"
   ]
  },
  {
   "cell_type": "code",
   "execution_count": null,
   "metadata": {
    "collapsed": true,
    "hidden": true
   },
   "outputs": [],
   "source": [
    "LC_train[0,:,:,0] * contrast"
   ]
  },
  {
   "cell_type": "code",
   "execution_count": null,
   "metadata": {
    "collapsed": true,
    "hidden": true
   },
   "outputs": [],
   "source": []
  },
  {
   "cell_type": "code",
   "execution_count": null,
   "metadata": {
    "collapsed": true,
    "hidden": true
   },
   "outputs": [],
   "source": [
    "min_val = -250\n",
    "max_val = 50\n",
    "fig = plt.figure(figsize=(10,1.))\n",
    "plt.imshow( (DATA)[0], cmap=EoR_colour, interpolation=None, vmin=min_val, vmax=max_val )\n",
    "\n",
    "min_val = -250\n",
    "max_val = 50\n",
    "fig = plt.figure(figsize=(10,1.))\n",
    "plt.imshow( (DATA-DATA_avg_1D)[0], cmap=EoR_colour, interpolation=None, vmin=min_val, vmax=max_val )\n",
    "\n",
    "min_val = -250\n",
    "max_val = 50\n",
    "fig = plt.figure(figsize=(10,1.))\n",
    "plt.imshow( (DATA-T_avg)[0], cmap=EoR_colour, interpolation=None, vmin=min_val, vmax=max_val )\n",
    "\n",
    "plt.figure()\n",
    "plt.plot( DATA_avg_1D )\n",
    "plt.hlines( T_avg, plt.xlim()[0], plt.xlim()[1] )"
   ]
  },
  {
   "cell_type": "code",
   "execution_count": null,
   "metadata": {
    "collapsed": true,
    "hidden": true
   },
   "outputs": [],
   "source": []
  }
 ],
 "metadata": {
  "anaconda-cloud": {},
  "kernelspec": {
   "display_name": "Python [conda root]",
   "language": "python",
   "name": "conda-root-py"
  },
  "language_info": {
   "codemirror_mode": {
    "name": "ipython",
    "version": 3
   },
   "file_extension": ".py",
   "mimetype": "text/x-python",
   "name": "python",
   "nbconvert_exporter": "python",
   "pygments_lexer": "ipython3",
   "version": "3.5.2"
  }
 },
 "nbformat": 4,
 "nbformat_minor": 2
}
